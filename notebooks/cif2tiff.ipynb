{
 "cells": [
  {
   "cell_type": "code",
   "execution_count": 1,
   "metadata": {},
   "outputs": [],
   "source": [
    "%load_ext autoreload\n",
    "%autoreload 2"
   ]
  },
  {
   "cell_type": "code",
   "execution_count": 2,
   "metadata": {},
   "outputs": [],
   "source": [
    "# default_exp cif2tiff"
   ]
  },
  {
   "cell_type": "markdown",
   "metadata": {},
   "source": [
    "# Convert CIF-file to TIFF directories"
   ]
  },
  {
   "cell_type": "code",
   "execution_count": 9,
   "metadata": {},
   "outputs": [],
   "source": [
    "#hide\n",
    "from nbdev.showdoc import *"
   ]
  },
  {
   "cell_type": "code",
   "execution_count": 26,
   "metadata": {},
   "outputs": [],
   "source": [
    "# export\n",
    "import math\n",
    "import javabridge\n",
    "import bioformats as bf\n",
    "import numpy as np\n",
    "import logging\n",
    "from tqdm import tqdm\n",
    "from pathlib import Path\n",
    "import numpy\n",
    "import click\n",
    "import flowio\n",
    "from PIL import Image\n",
    "from multiprocessing import Pool\n",
    "import sys\n",
    "\n",
    "import tblib.pickling_support\n",
    "tblib.pickling_support.install()"
   ]
  },
  {
   "cell_type": "code",
   "execution_count": 27,
   "metadata": {},
   "outputs": [],
   "source": [
    "import matplotlib.pyplot as plt\n",
    "from tqdm.notebook import tqdm"
   ]
  },
  {
   "cell_type": "code",
   "execution_count": 28,
   "metadata": {},
   "outputs": [],
   "source": [
    "# exporti\n",
    "\n",
    "def _is_image(_series, _r):\n",
    "    _r.rdr.setSeries(_series)\n",
    "    return _r.rdr.getPixelType() != 1"
   ]
  },
  {
   "cell_type": "code",
   "execution_count": 29,
   "metadata": {},
   "outputs": [],
   "source": [
    "javabridge.start_vm(class_path=bf.JARS, run_headless=True, max_heap_size=\"12G\")"
   ]
  },
  {
   "cell_type": "code",
   "execution_count": 30,
   "metadata": {},
   "outputs": [],
   "source": [
    "# exporti\n",
    "\n",
    "class ExceptionWrapper(object):\n",
    "\n",
    "    def __init__(self, ee):\n",
    "        self.ee = ee\n",
    "        __, __, self.tb = sys.exc_info()\n",
    "\n",
    "    def re_raise(self):\n",
    "        raise self.ee.with_traceback(self.tb)"
   ]
  },
  {
   "cell_type": "code",
   "execution_count": 31,
   "metadata": {},
   "outputs": [],
   "source": [
    "# exporti\n",
    "\n",
    "def setup_directory_structure(out, fcs):\n",
    "    data = flowio.FlowData(fcs)\n",
    "    \n",
    "    label_idx = None\n",
    "    for k, v in data.channels.items():\n",
    "        if v[\"PnN\"] == \"label\":\n",
    "            label_idx = int(k)\n",
    "            \n",
    "    assert label_idx is not None, \"No label column present in fcs file\"\n",
    "    \n",
    "    labels = numpy.reshape(data.events, (-1, data.channel_count))[:, label_idx-1].astype(int)\n",
    "    \n",
    "    prefix = Path(out).joinpath(*Path(fcs).parts[-3:-1])\n",
    "    for label in numpy.unique(labels):\n",
    "        (prefix / str(label)).mkdir(exist_ok=True, parents=True)\n",
    "        \n",
    "    return labels, prefix\n",
    "\n",
    "def process_chunk(images, crange):\n",
    "    try:\n",
    "        upper_bound = images[0].reshape(len(crange), -1).max(axis=1)\n",
    "        lower_bound = images[0].reshape(len(crange), -1).min(axis=1)\n",
    "\n",
    "        counter = 1\n",
    "        for i in images[1:]:\n",
    "            a = images[counter].reshape(len(crange), -1).min(axis=1)\n",
    "            b = images[counter].reshape(len(crange), -1).max(axis=1)\n",
    "            lower_bound = np.where(a < lower_bound, a, lower_bound) \n",
    "            upper_bound = np.where(b > upper_bound, b, upper_bound)\n",
    "\n",
    "            counter += 1\n",
    "\n",
    "        return lower_bound, upper_bound\n",
    "    except Exception as e:\n",
    "        return ExceptionWrapper(e)\n",
    "\n",
    "def get_min_max_in_file(reader, r_length, crange, nprocs, nchunks):\n",
    "    \n",
    "    chunks = numpy.array_split(numpy.arange(0, r_length, step=2), nchunks)\n",
    "    image_chunks = [None]*len(chunks)\n",
    "    \n",
    "    with Pool(processes=nprocs) as pool:\n",
    "        results = []\n",
    "        lower_bound, upper_bound = None, None\n",
    "        for i, chunk in tqdm(enumerate(chunks), position=0, leave=False, total=len(chunks)):\n",
    "\n",
    "            images = [None]*len(chunk)\n",
    "            for j, series in tqdm(enumerate(chunk), total=len(chunk), position=1, leave=False, mininterval=10):\n",
    "                first = reader.read(c=0, series=series)\n",
    "                im = numpy.empty(shape=(len(crange),) + first.shape, dtype=first.dtype)\n",
    "                mask = numpy.empty(shape=(len(crange),) + first.shape, dtype=first.dtype)\n",
    "\n",
    "                im[0] = first\n",
    "                for c in crange[1:]:\n",
    "                    im[c] = reader.read(c=c, series=series)\n",
    "                for c in crange:\n",
    "                    mask[c] = reader.read(c=c, series=series+1)\n",
    "                images[j] = im*mask\n",
    "\n",
    "            image_chunks[i] = images\n",
    "            results.append(pool.apply_async(process_chunk, args=(image_chunks[i], crange)))\n",
    "            print(f\"Submitted chunk {i}\")\n",
    "\n",
    "            if len(results) == 2:\n",
    "                for i, result in enumerate(results):\n",
    "                    print(f\"Waiting for result {i}\")\n",
    "                    r = result.get()\n",
    "                    \n",
    "                    if isinstance(r, ExceptionWrapper):\n",
    "                        r.re_raise()\n",
    "                    \n",
    "                    a, b = r\n",
    "\n",
    "                    if lower_bound is None:\n",
    "                        lower_bound = a\n",
    "                    else:\n",
    "                        lower_bound = np.where(a < lower_bound, a, lower_bound) \n",
    "                    if upper_bound is None:\n",
    "                        upper_bound = b\n",
    "                    else:\n",
    "                        upper_bound = np.where(b > upper_bound, b, upper_bound)\n",
    "                results = []\n",
    "    \n",
    "    return lower_bound, upper_bound, image_chunks"
   ]
  },
  {
   "cell_type": "code",
   "execution_count": 32,
   "metadata": {},
   "outputs": [],
   "source": [
    "# export\n",
    "\n",
    "def convert(cif_files, fcs_files, output, channels, debug, nproc=1, nchunks=None, external_jvm_control=False):\n",
    "    \n",
    "    if nchunks is None:\n",
    "        nchunks = nproc\n",
    "    \n",
    "    if debug:\n",
    "        logging.basicConfig()\n",
    "        logging.getLogger().setLevel(logging.INFO)\n",
    "        \n",
    "    output = Path(output)\n",
    "\n",
    "    logger = logging.getLogger(__name__)\n",
    "\n",
    "    try:\n",
    "        \n",
    "        if not external_jvm_control:\n",
    "            logger.debug(\"Starting Java VM\")\n",
    "            javabridge.start_vm(class_path=bf.JARS, run_headless=True, max_heap_size=\"12G\")\n",
    "            logger.debug(\"Started Java VM\")\n",
    "            \n",
    "        counter = 0\n",
    "        for cif, fcs in zip(cif_files, fcs_files):\n",
    "            print(f\"Processing {cif}\")\n",
    "            \n",
    "            labels, prefix = setup_directory_structure(output, fcs)\n",
    "            \n",
    "            reader = bf.formatreader.get_image_reader(\"reader\", path=cif)\n",
    "            r_length = javabridge.call(reader.metadata, \"getImageCount\", \"()I\")\n",
    "            num_channels = javabridge.call(reader.metadata, \"getChannelCount\", \"(I)I\", 0)\n",
    "\n",
    "            if debug:\n",
    "                r_length=100\n",
    "\n",
    "            if len(channels) == 0:\n",
    "                crange = [i for i in range(num_channels)]\n",
    "            else:\n",
    "                crange = np.array(channels)-1\n",
    "            \n",
    "            lower_bound, upper_bound, image_chunks = get_min_max_in_file(reader, r_length, crange, nproc, nchunks)\n",
    "            lower_bound = lower_bound.reshape(len(crange), 1, 1)\n",
    "            upper_bound = upper_bound.reshape(len(crange), 1, 1)\n",
    "\n",
    "            a = 0\n",
    "            for images in tqdm(image_chunks, position=0, leave=False, mininterval=10):\n",
    "                for im in images:\n",
    "                    im = (((im - lower_bound) / (upper_bound - lower_bound))*(2**16)).astype(numpy.uint16)\n",
    "                    pillow_img = Image.fromarray(im[0], mode=\"I;16\")\n",
    "                    pillow_img.save(\n",
    "                        prefix / str(labels[a]) / f\"{counter}.tiff\", \n",
    "                        append_images = [Image.fromarray(im[i], mode=\"I;16\") for i in range(1, im.shape[0])],\n",
    "                        save_all = True\n",
    "                    )\n",
    "                    counter+=1\n",
    "                    a+1\n",
    "                \n",
    "    finally:\n",
    "        if not external_jvm_control:\n",
    "            javabridge.kill_vm()"
   ]
  },
  {
   "cell_type": "code",
   "execution_count": 33,
   "metadata": {},
   "outputs": [
    {
     "name": "stdout",
     "output_type": "stream",
     "text": [
      "Processing /data/Experiment_data/newcastle/wbc/idr0000-lippeveld-ifc-human-wbc-data/experimentA/sample1/sample1_part1_of_3.cif\n"
     ]
    },
    {
     "data": {
      "application/vnd.jupyter.widget-view+json": {
       "model_id": "69ebc9b8130e4108b8c298e94d8b5fef",
       "version_major": 2,
       "version_minor": 0
      },
      "text/plain": [
       "  0%|          | 0/12 [00:00<?, ?it/s]"
      ]
     },
     "metadata": {},
     "output_type": "display_data"
    },
    {
     "data": {
      "application/vnd.jupyter.widget-view+json": {
       "model_id": "",
       "version_major": 2,
       "version_minor": 0
      },
      "text/plain": [
       "  0%|          | 0/5 [00:00<?, ?it/s]"
      ]
     },
     "metadata": {},
     "output_type": "display_data"
    },
    {
     "name": "stdout",
     "output_type": "stream",
     "text": [
      "Submitted chunk 0\n"
     ]
    },
    {
     "data": {
      "application/vnd.jupyter.widget-view+json": {
       "model_id": "",
       "version_major": 2,
       "version_minor": 0
      },
      "text/plain": [
       "  0%|          | 0/5 [00:00<?, ?it/s]"
      ]
     },
     "metadata": {},
     "output_type": "display_data"
    },
    {
     "name": "stdout",
     "output_type": "stream",
     "text": [
      "Submitted chunk 1\n",
      "Waiting for result 0\n"
     ]
    },
    {
     "ename": "Exception",
     "evalue": "jow",
     "output_type": "error",
     "traceback": [
      "\u001b[0;31m---------------------------------------------------------------------------\u001b[0m",
      "\u001b[0;31mException\u001b[0m                                 Traceback (most recent call last)",
      "\u001b[0;32m<ipython-input-33-5fc94fe1ea7a>\u001b[0m in \u001b[0;36m<module>\u001b[0;34m\u001b[0m\n\u001b[0;32m----> 1\u001b[0;31m convert(\n\u001b[0m\u001b[1;32m      2\u001b[0m     [\n\u001b[1;32m      3\u001b[0m         \u001b[0;34m\"/data/Experiment_data/newcastle/wbc/idr0000-lippeveld-ifc-human-wbc-data/experimentA/sample1/sample1_part1_of_3.cif\"\u001b[0m\u001b[0;34m\u001b[0m\u001b[0;34m\u001b[0m\u001b[0m\n\u001b[1;32m      4\u001b[0m         \u001b[0;34m,\u001b[0m \u001b[0;34m\"/data/Experiment_data/newcastle/wbc/idr0000-lippeveld-ifc-human-wbc-data/experimentA/sample1/sample1_part2_of_3.cif\"\u001b[0m\u001b[0;34m\u001b[0m\u001b[0;34m\u001b[0m\u001b[0m\n\u001b[1;32m      5\u001b[0m         \u001b[0;34m,\u001b[0m \u001b[0;34m\"/data/Experiment_data/newcastle/wbc/idr0000-lippeveld-ifc-human-wbc-data/experimentA/sample1/sample1_part3_of_3.cif\"\u001b[0m\u001b[0;34m\u001b[0m\u001b[0;34m\u001b[0m\u001b[0m\n",
      "\u001b[0;32m<ipython-input-32-031fdbb1ff77>\u001b[0m in \u001b[0;36mconvert\u001b[0;34m(cif_files, fcs_files, output, channels, debug, nproc, nchunks, external_jvm_control)\u001b[0m\n\u001b[1;32m     39\u001b[0m                 \u001b[0mcrange\u001b[0m \u001b[0;34m=\u001b[0m \u001b[0mnp\u001b[0m\u001b[0;34m.\u001b[0m\u001b[0marray\u001b[0m\u001b[0;34m(\u001b[0m\u001b[0mchannels\u001b[0m\u001b[0;34m)\u001b[0m\u001b[0;34m-\u001b[0m\u001b[0;36m1\u001b[0m\u001b[0;34m\u001b[0m\u001b[0;34m\u001b[0m\u001b[0m\n\u001b[1;32m     40\u001b[0m \u001b[0;34m\u001b[0m\u001b[0m\n\u001b[0;32m---> 41\u001b[0;31m             \u001b[0mlower_bound\u001b[0m\u001b[0;34m,\u001b[0m \u001b[0mupper_bound\u001b[0m\u001b[0;34m,\u001b[0m \u001b[0mimage_chunks\u001b[0m \u001b[0;34m=\u001b[0m \u001b[0mget_min_max_in_file\u001b[0m\u001b[0;34m(\u001b[0m\u001b[0mreader\u001b[0m\u001b[0;34m,\u001b[0m \u001b[0mr_length\u001b[0m\u001b[0;34m,\u001b[0m \u001b[0mcrange\u001b[0m\u001b[0;34m,\u001b[0m \u001b[0mnproc\u001b[0m\u001b[0;34m,\u001b[0m \u001b[0mnchunks\u001b[0m\u001b[0;34m)\u001b[0m\u001b[0;34m\u001b[0m\u001b[0;34m\u001b[0m\u001b[0m\n\u001b[0m\u001b[1;32m     42\u001b[0m             \u001b[0mlower_bound\u001b[0m \u001b[0;34m=\u001b[0m \u001b[0mlower_bound\u001b[0m\u001b[0;34m.\u001b[0m\u001b[0mreshape\u001b[0m\u001b[0;34m(\u001b[0m\u001b[0mlen\u001b[0m\u001b[0;34m(\u001b[0m\u001b[0mcrange\u001b[0m\u001b[0;34m)\u001b[0m\u001b[0;34m,\u001b[0m \u001b[0;36m1\u001b[0m\u001b[0;34m,\u001b[0m \u001b[0;36m1\u001b[0m\u001b[0;34m)\u001b[0m\u001b[0;34m\u001b[0m\u001b[0;34m\u001b[0m\u001b[0m\n\u001b[1;32m     43\u001b[0m             \u001b[0mupper_bound\u001b[0m \u001b[0;34m=\u001b[0m \u001b[0mupper_bound\u001b[0m\u001b[0;34m.\u001b[0m\u001b[0mreshape\u001b[0m\u001b[0;34m(\u001b[0m\u001b[0mlen\u001b[0m\u001b[0;34m(\u001b[0m\u001b[0mcrange\u001b[0m\u001b[0;34m)\u001b[0m\u001b[0;34m,\u001b[0m \u001b[0;36m1\u001b[0m\u001b[0;34m,\u001b[0m \u001b[0;36m1\u001b[0m\u001b[0;34m)\u001b[0m\u001b[0;34m\u001b[0m\u001b[0;34m\u001b[0m\u001b[0m\n",
      "\u001b[0;32m<ipython-input-31-680fcdaf95d4>\u001b[0m in \u001b[0;36mget_min_max_in_file\u001b[0;34m(reader, r_length, crange, nprocs, nchunks)\u001b[0m\n\u001b[1;32m     72\u001b[0m \u001b[0;34m\u001b[0m\u001b[0m\n\u001b[1;32m     73\u001b[0m                     \u001b[0;32mif\u001b[0m \u001b[0misinstance\u001b[0m\u001b[0;34m(\u001b[0m\u001b[0mr\u001b[0m\u001b[0;34m,\u001b[0m \u001b[0mExceptionWrapper\u001b[0m\u001b[0;34m)\u001b[0m\u001b[0;34m:\u001b[0m\u001b[0;34m\u001b[0m\u001b[0;34m\u001b[0m\u001b[0m\n\u001b[0;32m---> 74\u001b[0;31m                         \u001b[0mr\u001b[0m\u001b[0;34m.\u001b[0m\u001b[0mre_raise\u001b[0m\u001b[0;34m(\u001b[0m\u001b[0;34m)\u001b[0m\u001b[0;34m\u001b[0m\u001b[0;34m\u001b[0m\u001b[0m\n\u001b[0m\u001b[1;32m     75\u001b[0m \u001b[0;34m\u001b[0m\u001b[0m\n\u001b[1;32m     76\u001b[0m                     \u001b[0ma\u001b[0m\u001b[0;34m,\u001b[0m \u001b[0mb\u001b[0m \u001b[0;34m=\u001b[0m \u001b[0mr\u001b[0m\u001b[0;34m\u001b[0m\u001b[0;34m\u001b[0m\u001b[0m\n",
      "\u001b[0;32m<ipython-input-30-83417bea21e8>\u001b[0m in \u001b[0;36mre_raise\u001b[0;34m(self)\u001b[0m\n\u001b[1;32m      8\u001b[0m \u001b[0;34m\u001b[0m\u001b[0m\n\u001b[1;32m      9\u001b[0m     \u001b[0;32mdef\u001b[0m \u001b[0mre_raise\u001b[0m\u001b[0;34m(\u001b[0m\u001b[0mself\u001b[0m\u001b[0;34m)\u001b[0m\u001b[0;34m:\u001b[0m\u001b[0;34m\u001b[0m\u001b[0;34m\u001b[0m\u001b[0m\n\u001b[0;32m---> 10\u001b[0;31m         \u001b[0;32mraise\u001b[0m \u001b[0mself\u001b[0m\u001b[0;34m.\u001b[0m\u001b[0mee\u001b[0m\u001b[0;34m.\u001b[0m\u001b[0mwith_traceback\u001b[0m\u001b[0;34m(\u001b[0m\u001b[0mself\u001b[0m\u001b[0;34m.\u001b[0m\u001b[0mtb\u001b[0m\u001b[0;34m)\u001b[0m\u001b[0;34m\u001b[0m\u001b[0;34m\u001b[0m\u001b[0m\n\u001b[0m",
      "\u001b[0;32m<ipython-input-31-680fcdaf95d4>\u001b[0m in \u001b[0;36mprocess_chunk\u001b[0;34m()\u001b[0m\n\u001b[1;32m     21\u001b[0m \u001b[0;32mdef\u001b[0m \u001b[0mprocess_chunk\u001b[0m\u001b[0;34m(\u001b[0m\u001b[0mimages\u001b[0m\u001b[0;34m,\u001b[0m \u001b[0mcrange\u001b[0m\u001b[0;34m)\u001b[0m\u001b[0;34m:\u001b[0m\u001b[0;34m\u001b[0m\u001b[0;34m\u001b[0m\u001b[0m\n\u001b[1;32m     22\u001b[0m     \u001b[0;32mtry\u001b[0m\u001b[0;34m:\u001b[0m\u001b[0;34m\u001b[0m\u001b[0;34m\u001b[0m\u001b[0m\n\u001b[0;32m---> 23\u001b[0;31m         \u001b[0;32mraise\u001b[0m \u001b[0mException\u001b[0m\u001b[0;34m(\u001b[0m\u001b[0;34m\"jow\"\u001b[0m\u001b[0;34m)\u001b[0m\u001b[0;34m\u001b[0m\u001b[0;34m\u001b[0m\u001b[0m\n\u001b[0m\u001b[1;32m     24\u001b[0m \u001b[0;34m\u001b[0m\u001b[0m\n\u001b[1;32m     25\u001b[0m         \u001b[0mupper_bound\u001b[0m \u001b[0;34m=\u001b[0m \u001b[0mimages\u001b[0m\u001b[0;34m[\u001b[0m\u001b[0;36m0\u001b[0m\u001b[0;34m]\u001b[0m\u001b[0;34m.\u001b[0m\u001b[0mreshape\u001b[0m\u001b[0;34m(\u001b[0m\u001b[0mlen\u001b[0m\u001b[0;34m(\u001b[0m\u001b[0mcrange\u001b[0m\u001b[0;34m)\u001b[0m\u001b[0;34m,\u001b[0m \u001b[0;34m-\u001b[0m\u001b[0;36m1\u001b[0m\u001b[0;34m)\u001b[0m\u001b[0;34m.\u001b[0m\u001b[0mmax\u001b[0m\u001b[0;34m(\u001b[0m\u001b[0maxis\u001b[0m\u001b[0;34m=\u001b[0m\u001b[0;36m1\u001b[0m\u001b[0;34m)\u001b[0m\u001b[0;34m\u001b[0m\u001b[0;34m\u001b[0m\u001b[0m\n",
      "\u001b[0;31mException\u001b[0m: jow"
     ]
    }
   ],
   "source": [
    "convert(\n",
    "    [\n",
    "        \"/data/Experiment_data/newcastle/wbc/idr0000-lippeveld-ifc-human-wbc-data/experimentA/sample1/sample1_part1_of_3.cif\"\n",
    "        , \"/data/Experiment_data/newcastle/wbc/idr0000-lippeveld-ifc-human-wbc-data/experimentA/sample1/sample1_part2_of_3.cif\"\n",
    "        , \"/data/Experiment_data/newcastle/wbc/idr0000-lippeveld-ifc-human-wbc-data/experimentA/sample1/sample1_part3_of_3.cif\"\n",
    "        , \"/data/Experiment_data/newcastle/wbc/idr0000-lippeveld-ifc-human-wbc-data/experimentA/sample2/sample2.cif\"\n",
    "    ],\n",
    "    [\n",
    "        \"/data/Experiment_data/newcastle/wbc/idr0000-lippeveld-ifc-human-wbc-data/experimentA/sample1/sample1_part1_of_3.fcs\"\n",
    "        , \"/data/Experiment_data/newcastle/wbc/idr0000-lippeveld-ifc-human-wbc-data/experimentA/sample1/sample1_part2_of_3.fcs\"\n",
    "        , \"/data/Experiment_data/newcastle/wbc/idr0000-lippeveld-ifc-human-wbc-data/experimentA/sample1/sample1_part3_of_3.fcs\"\n",
    "        , \"/data/Experiment_data/newcastle/wbc/idr0000-lippeveld-ifc-human-wbc-data/experimentA/sample2/sample2.fcs\"\n",
    "    ],\n",
    "    \"out\", [], True, 12, external_jvm_control=True)"
   ]
  },
  {
   "cell_type": "code",
   "execution_count": 11,
   "metadata": {},
   "outputs": [],
   "source": [
    "# export\n",
    "@click.command(name=\"cif2tiff\")\n",
    "@click.argument(\"cif\", type=click.Path(exists=True, file_okay=False))\n",
    "@click.argument(\"output\", type=click.Path(exists=False, file_okay=False))\n",
    "@click.option(\"--channels\", multiple=True, type=int, default=[], help=\"Images from these channels will be extracted. Default is to extract all. 1-based index.\")\n",
    "@click.option(\"--debug\", is_flag=True, flag_value=True, help=\"Show debugging information. Limits output to 100 first cells.\", default=False)\n",
    "@click.option(\"--nproc\", type=int, default=-1, help=\"Amount of processes to use.\")\n",
    "@click.option(\"--nchunks\", type=int, default=-1, help=\"Amount of chunks to use.\")\n",
    "def convert_cmd(cif, output, channels, debug, nproc, nchunks):\n",
    "    \n",
    "    if nproc == -1:\n",
    "        from multiprocessing import cpu_count\n",
    "        nproc = cpu_count()\n",
    "    \n",
    "    if nchunks == -1:\n",
    "        nchunks = nproc\n",
    "        \n",
    "        \n",
    "    import glob\n",
    "    cif_files = glob.glob(str(Path(cif) / \"**\" / \"*.cif\"))\n",
    "    fcs_files = [str(Path(f).with_suffix(\".fcs\")) for f in cif_files]\n",
    "    \n",
    "    convert(cif_files, fcs_files, output, channels, debug, nproc, nchunks)"
   ]
  }
 ],
 "metadata": {
  "kernelspec": {
   "display_name": "Python 3",
   "language": "python",
   "name": "python3"
  },
  "language_info": {
   "codemirror_mode": {
    "name": "ipython",
    "version": 3
   },
   "file_extension": ".py",
   "mimetype": "text/x-python",
   "name": "python",
   "nbconvert_exporter": "python",
   "pygments_lexer": "ipython3",
   "version": "3.8.10"
  }
 },
 "nbformat": 4,
 "nbformat_minor": 4
}
