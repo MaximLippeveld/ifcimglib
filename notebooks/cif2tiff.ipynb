{
 "cells": [
  {
   "cell_type": "code",
   "execution_count": null,
   "metadata": {},
   "outputs": [],
   "source": [
    "%load_ext autoreload\n",
    "%autoreload 2"
   ]
  },
  {
   "cell_type": "code",
   "execution_count": null,
   "metadata": {},
   "outputs": [],
   "source": [
    "# default_exp cif2tiff"
   ]
  },
  {
   "cell_type": "markdown",
   "metadata": {},
   "source": [
    "# Convert CIF-file to TIFF directories"
   ]
  },
  {
   "cell_type": "code",
   "execution_count": null,
   "metadata": {},
   "outputs": [],
   "source": [
    "#hide\n",
    "from nbdev.showdoc import *"
   ]
  },
  {
   "cell_type": "code",
   "execution_count": null,
   "metadata": {},
   "outputs": [],
   "source": [
    "# export\n",
    "import math\n",
    "import javabridge\n",
    "import bioformats as bf\n",
    "import numpy as np\n",
    "import logging\n",
    "from tqdm import tqdm\n",
    "from pathlib import Path\n",
    "import numpy\n",
    "import click\n",
    "import flowio\n",
    "from PIL import Image\n",
    "from multiprocessing import Pool\n",
    "import sys\n",
    "import logging\n",
    "\n",
    "# disable PIL lowwing\n",
    "PIL_logger = logging.getLogger('PIL')\n",
    "PIL_logger.setLevel(logging.ERROR)\n",
    "\n",
    "import tblib.pickling_support\n",
    "tblib.pickling_support.install()"
   ]
  },
  {
   "cell_type": "code",
   "execution_count": null,
   "metadata": {},
   "outputs": [],
   "source": [
    "import matplotlib.pyplot as plt\n",
    "from tqdm.notebook import tqdm\n",
    "logging.basicConfig(level=logging.DEBUG)"
   ]
  },
  {
   "cell_type": "code",
   "execution_count": null,
   "metadata": {},
   "outputs": [],
   "source": [
    "# exporti\n",
    "\n",
    "def _is_image(_series, _r):\n",
    "    _r.rdr.setSeries(_series)\n",
    "    return _r.rdr.getPixelType() != 1"
   ]
  },
  {
   "cell_type": "code",
   "execution_count": null,
   "metadata": {},
   "outputs": [
    {
     "name": "stderr",
     "output_type": "stream",
     "text": [
      "DEBUG:javabridge.jutil:Creating JVM object\n",
      "DEBUG:javabridge.jutil:Signalling caller\n"
     ]
    }
   ],
   "source": [
    "javabridge.start_vm(class_path=bf.JARS, run_headless=True, max_heap_size=\"12G\")"
   ]
  },
  {
   "cell_type": "code",
   "execution_count": null,
   "metadata": {},
   "outputs": [],
   "source": [
    "# exporti\n",
    "\n",
    "class ExceptionWrapper(object):\n",
    "\n",
    "    def __init__(self, ee):\n",
    "        self.ee = ee\n",
    "        __, __, self.tb = sys.exc_info()\n",
    "\n",
    "    def re_raise(self):\n",
    "        raise self.ee.with_traceback(self.tb)"
   ]
  },
  {
   "cell_type": "code",
   "execution_count": null,
   "metadata": {},
   "outputs": [],
   "source": [
    "# exporti\n",
    "\n",
    "def setup_directory_structure(out, fcs):\n",
    "    data = flowio.FlowData(fcs)\n",
    "    \n",
    "    label_idx = None\n",
    "    for k, v in data.channels.items():\n",
    "        if v[\"PnN\"] == \"label\":\n",
    "            label_idx = int(k)\n",
    "            \n",
    "    assert label_idx is not None, \"No label column present in fcs file\"\n",
    "    \n",
    "    labels = numpy.reshape(data.events, (-1, data.channel_count))[:, label_idx-1].astype(int)\n",
    "    \n",
    "    prefix = Path(out).joinpath(*Path(fcs).parts[-3:-1])\n",
    "    for label in numpy.unique(labels):\n",
    "        (prefix / str(label)).mkdir(exist_ok=True, parents=True)\n",
    "        \n",
    "    return labels, prefix\n",
    "\n",
    "def process_chunk(images, crange):\n",
    "    try:\n",
    "        logger = logging.getLogger(__name__)\n",
    "        logger.debug(\"[process_chunk] enter\")\n",
    "        upper_bound = images[0].reshape(len(crange), -1).max(axis=1)\n",
    "        lower_bound = images[0].reshape(len(crange), -1).min(axis=1)\n",
    "\n",
    "        counter = 1\n",
    "        for i in images[1:]:\n",
    "            a = images[counter].reshape(len(crange), -1).min(axis=1)\n",
    "            b = images[counter].reshape(len(crange), -1).max(axis=1)\n",
    "            lower_bound = np.where(a < lower_bound, a, lower_bound) \n",
    "            upper_bound = np.where(b > upper_bound, b, upper_bound)\n",
    "\n",
    "            counter += 1\n",
    "            \n",
    "        logger.debug(\"[process_chunk] done\")\n",
    "        return lower_bound, upper_bound\n",
    "    except Exception as e:\n",
    "        logger.debug(\"[process_chunk] error\")\n",
    "        return ExceptionWrapper(e)\n",
    "\n",
    "def get_min_max_in_file(reader, r_length, crange, nprocs, nchunks):\n",
    "    logger = logging.getLogger(__name__)\n",
    "    logger.info(f\"[get_min_max_in_file] enter\")\n",
    "    \n",
    "    chunks = numpy.array_split(numpy.arange(0, r_length, step=2), nchunks)\n",
    "    image_chunks = [None]*len(chunks)\n",
    "    \n",
    "    with Pool(processes=nprocs) as pool:\n",
    "        results = []\n",
    "        lower_bound, upper_bound = None, None\n",
    "        for i, chunk in tqdm(enumerate(chunks), position=0, leave=False, total=len(chunks)):\n",
    "\n",
    "            images = [None]*len(chunk)\n",
    "            for j, series in tqdm(enumerate(chunk), total=len(chunk), position=1, leave=False, mininterval=10):\n",
    "                first = reader.read(c=0, series=series)\n",
    "                im = numpy.empty(shape=(len(crange),) + first.shape, dtype=first.dtype)\n",
    "                mask = numpy.empty(shape=(len(crange),) + first.shape, dtype=first.dtype)\n",
    "\n",
    "                im[0] = first\n",
    "                for c in crange[1:]:\n",
    "                    im[c] = reader.read(c=c, series=series)\n",
    "                for c in crange:\n",
    "                    mask[c] = reader.read(c=c, series=series+1)\n",
    "                images[j] = im*mask\n",
    "\n",
    "            image_chunks[i] = images\n",
    "            results.append(pool.apply_async(process_chunk, args=(image_chunks[i], crange)))\n",
    "            logger.info(f\"[get_min_max_in_file] submitted chunk {i}\")\n",
    "\n",
    "        for i, result in enumerate(results):\n",
    "            logger.info(f\"[get_min_max_in_file] waiting for result {i}\")\n",
    "            r = result.get()\n",
    "\n",
    "            if isinstance(r, ExceptionWrapper):\n",
    "                r.re_raise()\n",
    "\n",
    "            a, b = r\n",
    "\n",
    "            if lower_bound is None:\n",
    "                lower_bound = a\n",
    "            else:\n",
    "                lower_bound = np.where(a < lower_bound, a, lower_bound) \n",
    "            if upper_bound is None:\n",
    "                upper_bound = b\n",
    "            else:\n",
    "                upper_bound = np.where(b > upper_bound, b, upper_bound)\n",
    "        results = []\n",
    "    \n",
    "    logger.info(f\"[get_min_max_in_file] done\")\n",
    "    return lower_bound, upper_bound, image_chunks"
   ]
  },
  {
   "cell_type": "code",
   "execution_count": null,
   "metadata": {},
   "outputs": [],
   "source": [
    "# export\n",
    "\n",
    "def convert(cif_files, fcs_files, output, channels, debug, nproc=1, nchunks=None, external_jvm_control=False):\n",
    "    \n",
    "    if nchunks is None:\n",
    "        nchunks = nproc\n",
    "        \n",
    "    output = Path(output)\n",
    "\n",
    "    logger = logging.getLogger(__name__)\n",
    "\n",
    "    try:\n",
    "        \n",
    "        if not external_jvm_control:\n",
    "            logger.debug(\"[convert] starting Java VM\")\n",
    "            javabridge.start_vm(class_path=bf.JARS, run_headless=True, max_heap_size=\"12G\")\n",
    "            logger.debug(\"[convert] started Java VM\")\n",
    "            \n",
    "        counter = 0\n",
    "        for cif, fcs in zip(cif_files, fcs_files):\n",
    "            logging.info(f\"[convert] processing {cif}\")\n",
    "            \n",
    "            labels, prefix = setup_directory_structure(output, fcs)\n",
    "            \n",
    "            reader = bf.formatreader.get_image_reader(\"reader\", path=cif)\n",
    "            r_length = javabridge.call(reader.metadata, \"getImageCount\", \"()I\")\n",
    "            num_channels = javabridge.call(reader.metadata, \"getChannelCount\", \"(I)I\", 0)\n",
    "\n",
    "            if debug:\n",
    "                r_length=100\n",
    "\n",
    "            if len(channels) == 0:\n",
    "                crange = [i for i in range(num_channels)]\n",
    "            else:\n",
    "                crange = np.array(channels)-1\n",
    "            \n",
    "            logging.debug(f\"[convert] starting get_min_max for {cif}\")\n",
    "            lower_bound, upper_bound, image_chunks = get_min_max_in_file(reader, r_length, crange, nproc, nchunks)\n",
    "            logging.debug(f\"[convert] get_min_max for {cif} done\")\n",
    "            lower_bound = lower_bound.reshape(len(crange), 1, 1)\n",
    "            upper_bound = upper_bound.reshape(len(crange), 1, 1)\n",
    "\n",
    "            a = 0\n",
    "            logging.debug(f\"[convert] writing out images for {cif}\")\n",
    "            for images in tqdm(image_chunks, position=0, leave=False, mininterval=10):\n",
    "                for im in images:\n",
    "                    im = (((im - lower_bound) / (upper_bound - lower_bound))*(2**16)).astype(numpy.uint16)\n",
    "                    pillow_img = Image.fromarray(im[0], mode=\"I;16\")\n",
    "                    pillow_img.save(\n",
    "                        prefix / str(labels[a]) / f\"{counter}.tiff\", \n",
    "                        append_images = [Image.fromarray(im[i], mode=\"I;16\") for i in range(1, im.shape[0])],\n",
    "                        save_all = True\n",
    "                    )\n",
    "                    counter+=1\n",
    "                    a+1\n",
    "                \n",
    "    finally:\n",
    "        if not external_jvm_control:\n",
    "            javabridge.kill_vm()"
   ]
  },
  {
   "cell_type": "code",
   "execution_count": null,
   "metadata": {},
   "outputs": [
    {
     "name": "stderr",
     "output_type": "stream",
     "text": [
      "INFO:root:[convert] processing /data/Experiment_data/newcastle/wbc/idr0000-lippeveld-ifc-human-wbc-data/experimentA/sample1/sample1_part1_of_3.cif\n",
      "DEBUG:bioformats.formatreader:Getting image reader for: reader, /data/Experiment_data/newcastle/wbc/idr0000-lippeveld-ifc-human-wbc-data/experimentA/sample1/sample1_part1_of_3.cif, None\n",
      "DEBUG:bioformats.formatreader:Falling back to Java reader.\n",
      "DEBUG:root:[convert] starting get_min_max for /data/Experiment_data/newcastle/wbc/idr0000-lippeveld-ifc-human-wbc-data/experimentA/sample1/sample1_part1_of_3.cif\n",
      "INFO:__main__:[get_min_max_in_file] enter\n"
     ]
    },
    {
     "data": {
      "application/vnd.jupyter.widget-view+json": {
       "model_id": "",
       "version_major": 2,
       "version_minor": 0
      },
      "text/plain": [
       "  0%|          | 0/12 [00:00<?, ?it/s]"
      ]
     },
     "metadata": {},
     "output_type": "display_data"
    },
    {
     "data": {
      "application/vnd.jupyter.widget-view+json": {
       "model_id": "",
       "version_major": 2,
       "version_minor": 0
      },
      "text/plain": [
       "  0%|          | 0/5 [00:00<?, ?it/s]"
      ]
     },
     "metadata": {},
     "output_type": "display_data"
    },
    {
     "name": "stderr",
     "output_type": "stream",
     "text": [
      "INFO:__main__:[get_min_max_in_file] submitted chunk 0\n",
      "DEBUG:__main__:[process_chunk] enter\n",
      "DEBUG:__main__:[process_chunk] done\n"
     ]
    },
    {
     "data": {
      "application/vnd.jupyter.widget-view+json": {
       "model_id": "",
       "version_major": 2,
       "version_minor": 0
      },
      "text/plain": [
       "  0%|          | 0/5 [00:00<?, ?it/s]"
      ]
     },
     "metadata": {},
     "output_type": "display_data"
    },
    {
     "name": "stderr",
     "output_type": "stream",
     "text": [
      "INFO:__main__:[get_min_max_in_file] submitted chunk 1\n",
      "DEBUG:__main__:[process_chunk] enter\n",
      "DEBUG:__main__:[process_chunk] done\n"
     ]
    },
    {
     "data": {
      "application/vnd.jupyter.widget-view+json": {
       "model_id": "",
       "version_major": 2,
       "version_minor": 0
      },
      "text/plain": [
       "  0%|          | 0/4 [00:00<?, ?it/s]"
      ]
     },
     "metadata": {},
     "output_type": "display_data"
    },
    {
     "name": "stderr",
     "output_type": "stream",
     "text": [
      "INFO:__main__:[get_min_max_in_file] submitted chunk 2\n",
      "DEBUG:__main__:[process_chunk] enter\n",
      "DEBUG:__main__:[process_chunk] done\n"
     ]
    },
    {
     "data": {
      "application/vnd.jupyter.widget-view+json": {
       "model_id": "",
       "version_major": 2,
       "version_minor": 0
      },
      "text/plain": [
       "  0%|          | 0/4 [00:00<?, ?it/s]"
      ]
     },
     "metadata": {},
     "output_type": "display_data"
    },
    {
     "name": "stderr",
     "output_type": "stream",
     "text": [
      "INFO:__main__:[get_min_max_in_file] submitted chunk 3\n",
      "DEBUG:__main__:[process_chunk] enter\n"
     ]
    },
    {
     "data": {
      "application/vnd.jupyter.widget-view+json": {
       "model_id": "",
       "version_major": 2,
       "version_minor": 0
      },
      "text/plain": [
       "  0%|          | 0/4 [00:00<?, ?it/s]"
      ]
     },
     "metadata": {},
     "output_type": "display_data"
    },
    {
     "name": "stderr",
     "output_type": "stream",
     "text": [
      "DEBUG:__main__:[process_chunk] done\n",
      "INFO:__main__:[get_min_max_in_file] submitted chunk 4\n",
      "DEBUG:__main__:[process_chunk] enter\n",
      "DEBUG:__main__:[process_chunk] done\n"
     ]
    },
    {
     "data": {
      "application/vnd.jupyter.widget-view+json": {
       "model_id": "",
       "version_major": 2,
       "version_minor": 0
      },
      "text/plain": [
       "  0%|          | 0/4 [00:00<?, ?it/s]"
      ]
     },
     "metadata": {},
     "output_type": "display_data"
    },
    {
     "name": "stderr",
     "output_type": "stream",
     "text": [
      "INFO:__main__:[get_min_max_in_file] submitted chunk 5\n",
      "DEBUG:__main__:[process_chunk] enter\n"
     ]
    },
    {
     "data": {
      "application/vnd.jupyter.widget-view+json": {
       "model_id": "",
       "version_major": 2,
       "version_minor": 0
      },
      "text/plain": [
       "  0%|          | 0/4 [00:00<?, ?it/s]"
      ]
     },
     "metadata": {},
     "output_type": "display_data"
    },
    {
     "name": "stderr",
     "output_type": "stream",
     "text": [
      "DEBUG:__main__:[process_chunk] done\n",
      "INFO:__main__:[get_min_max_in_file] submitted chunk 6\n",
      "DEBUG:__main__:[process_chunk] enter\n",
      "DEBUG:__main__:[process_chunk] done\n"
     ]
    },
    {
     "data": {
      "application/vnd.jupyter.widget-view+json": {
       "model_id": "",
       "version_major": 2,
       "version_minor": 0
      },
      "text/plain": [
       "  0%|          | 0/4 [00:00<?, ?it/s]"
      ]
     },
     "metadata": {},
     "output_type": "display_data"
    },
    {
     "name": "stderr",
     "output_type": "stream",
     "text": [
      "INFO:__main__:[get_min_max_in_file] submitted chunk 7\n",
      "DEBUG:__main__:[process_chunk] enter\n",
      "DEBUG:__main__:[process_chunk] done\n"
     ]
    },
    {
     "data": {
      "application/vnd.jupyter.widget-view+json": {
       "model_id": "",
       "version_major": 2,
       "version_minor": 0
      },
      "text/plain": [
       "  0%|          | 0/4 [00:00<?, ?it/s]"
      ]
     },
     "metadata": {},
     "output_type": "display_data"
    },
    {
     "name": "stderr",
     "output_type": "stream",
     "text": [
      "INFO:__main__:[get_min_max_in_file] submitted chunk 8\n",
      "DEBUG:__main__:[process_chunk] enter\n"
     ]
    },
    {
     "data": {
      "application/vnd.jupyter.widget-view+json": {
       "model_id": "",
       "version_major": 2,
       "version_minor": 0
      },
      "text/plain": [
       "  0%|          | 0/4 [00:00<?, ?it/s]"
      ]
     },
     "metadata": {},
     "output_type": "display_data"
    },
    {
     "name": "stderr",
     "output_type": "stream",
     "text": [
      "DEBUG:__main__:[process_chunk] done\n",
      "INFO:__main__:[get_min_max_in_file] submitted chunk 9\n",
      "DEBUG:__main__:[process_chunk] enter\n"
     ]
    },
    {
     "data": {
      "application/vnd.jupyter.widget-view+json": {
       "model_id": "",
       "version_major": 2,
       "version_minor": 0
      },
      "text/plain": [
       "  0%|          | 0/4 [00:00<?, ?it/s]"
      ]
     },
     "metadata": {},
     "output_type": "display_data"
    },
    {
     "name": "stderr",
     "output_type": "stream",
     "text": [
      "DEBUG:__main__:[process_chunk] done\n",
      "INFO:__main__:[get_min_max_in_file] submitted chunk 10\n",
      "DEBUG:__main__:[process_chunk] enter\n",
      "DEBUG:__main__:[process_chunk] done\n"
     ]
    },
    {
     "data": {
      "application/vnd.jupyter.widget-view+json": {
       "model_id": "",
       "version_major": 2,
       "version_minor": 0
      },
      "text/plain": [
       "  0%|          | 0/4 [00:00<?, ?it/s]"
      ]
     },
     "metadata": {},
     "output_type": "display_data"
    },
    {
     "name": "stderr",
     "output_type": "stream",
     "text": [
      "INFO:__main__:[get_min_max_in_file] submitted chunk 11\n",
      "INFO:__main__:[get_min_max_in_file] waiting for result 0\n",
      "INFO:__main__:[get_min_max_in_file] waiting for result 1\n",
      "DEBUG:__main__:[process_chunk] enter\n",
      "INFO:__main__:[get_min_max_in_file] waiting for result 2\n",
      "INFO:__main__:[get_min_max_in_file] waiting for result 3\n",
      "INFO:__main__:[get_min_max_in_file] waiting for result 4\n",
      "INFO:__main__:[get_min_max_in_file] waiting for result 5\n",
      "DEBUG:__main__:[process_chunk] done\n",
      "INFO:__main__:[get_min_max_in_file] waiting for result 6\n",
      "INFO:__main__:[get_min_max_in_file] waiting for result 7\n",
      "INFO:__main__:[get_min_max_in_file] waiting for result 8\n",
      "INFO:__main__:[get_min_max_in_file] waiting for result 9\n",
      "INFO:__main__:[get_min_max_in_file] waiting for result 10\n",
      "INFO:__main__:[get_min_max_in_file] waiting for result 11\n",
      "INFO:__main__:[get_min_max_in_file] done\n",
      "DEBUG:root:[convert] get_min_max for /data/Experiment_data/newcastle/wbc/idr0000-lippeveld-ifc-human-wbc-data/experimentA/sample1/sample1_part1_of_3.cif done\n",
      "DEBUG:root:[convert] writing out images for /data/Experiment_data/newcastle/wbc/idr0000-lippeveld-ifc-human-wbc-data/experimentA/sample1/sample1_part1_of_3.cif\n"
     ]
    },
    {
     "data": {
      "application/vnd.jupyter.widget-view+json": {
       "model_id": "",
       "version_major": 2,
       "version_minor": 0
      },
      "text/plain": [
       "  0%|          | 0/12 [00:00<?, ?it/s]"
      ]
     },
     "metadata": {},
     "output_type": "display_data"
    },
    {
     "name": "stderr",
     "output_type": "stream",
     "text": [
      "INFO:root:[convert] processing /data/Experiment_data/newcastle/wbc/idr0000-lippeveld-ifc-human-wbc-data/experimentA/sample1/sample1_part2_of_3.cif\n",
      "DEBUG:bioformats.formatreader:Getting image reader for: reader, /data/Experiment_data/newcastle/wbc/idr0000-lippeveld-ifc-human-wbc-data/experimentA/sample1/sample1_part2_of_3.cif, None\n",
      "DEBUG:bioformats.formatreader:Falling back to Java reader.\n",
      "DEBUG:root:[convert] starting get_min_max for /data/Experiment_data/newcastle/wbc/idr0000-lippeveld-ifc-human-wbc-data/experimentA/sample1/sample1_part2_of_3.cif\n",
      "INFO:__main__:[get_min_max_in_file] enter\n"
     ]
    },
    {
     "data": {
      "application/vnd.jupyter.widget-view+json": {
       "model_id": "",
       "version_major": 2,
       "version_minor": 0
      },
      "text/plain": [
       "  0%|          | 0/12 [00:00<?, ?it/s]"
      ]
     },
     "metadata": {},
     "output_type": "display_data"
    },
    {
     "data": {
      "application/vnd.jupyter.widget-view+json": {
       "model_id": "",
       "version_major": 2,
       "version_minor": 0
      },
      "text/plain": [
       "  0%|          | 0/5 [00:00<?, ?it/s]"
      ]
     },
     "metadata": {},
     "output_type": "display_data"
    },
    {
     "name": "stderr",
     "output_type": "stream",
     "text": [
      "INFO:__main__:[get_min_max_in_file] submitted chunk 0\n",
      "DEBUG:__main__:[process_chunk] enter\n",
      "DEBUG:__main__:[process_chunk] done\n"
     ]
    },
    {
     "data": {
      "application/vnd.jupyter.widget-view+json": {
       "model_id": "",
       "version_major": 2,
       "version_minor": 0
      },
      "text/plain": [
       "  0%|          | 0/5 [00:00<?, ?it/s]"
      ]
     },
     "metadata": {},
     "output_type": "display_data"
    },
    {
     "name": "stderr",
     "output_type": "stream",
     "text": [
      "INFO:__main__:[get_min_max_in_file] submitted chunk 1\n",
      "DEBUG:__main__:[process_chunk] enter\n"
     ]
    },
    {
     "data": {
      "application/vnd.jupyter.widget-view+json": {
       "model_id": "",
       "version_major": 2,
       "version_minor": 0
      },
      "text/plain": [
       "  0%|          | 0/4 [00:00<?, ?it/s]"
      ]
     },
     "metadata": {},
     "output_type": "display_data"
    },
    {
     "name": "stderr",
     "output_type": "stream",
     "text": [
      "DEBUG:__main__:[process_chunk] done\n",
      "INFO:__main__:[get_min_max_in_file] submitted chunk 2\n",
      "DEBUG:__main__:[process_chunk] enter\n",
      "DEBUG:__main__:[process_chunk] done\n"
     ]
    },
    {
     "data": {
      "application/vnd.jupyter.widget-view+json": {
       "model_id": "",
       "version_major": 2,
       "version_minor": 0
      },
      "text/plain": [
       "  0%|          | 0/4 [00:00<?, ?it/s]"
      ]
     },
     "metadata": {},
     "output_type": "display_data"
    },
    {
     "name": "stderr",
     "output_type": "stream",
     "text": [
      "INFO:__main__:[get_min_max_in_file] submitted chunk 3\n",
      "DEBUG:__main__:[process_chunk] enter\n",
      "DEBUG:__main__:[process_chunk] done\n"
     ]
    },
    {
     "data": {
      "application/vnd.jupyter.widget-view+json": {
       "model_id": "",
       "version_major": 2,
       "version_minor": 0
      },
      "text/plain": [
       "  0%|          | 0/4 [00:00<?, ?it/s]"
      ]
     },
     "metadata": {},
     "output_type": "display_data"
    },
    {
     "name": "stderr",
     "output_type": "stream",
     "text": [
      "INFO:__main__:[get_min_max_in_file] submitted chunk 4\n",
      "DEBUG:__main__:[process_chunk] enter\n",
      "DEBUG:__main__:[process_chunk] done\n"
     ]
    },
    {
     "data": {
      "application/vnd.jupyter.widget-view+json": {
       "model_id": "",
       "version_major": 2,
       "version_minor": 0
      },
      "text/plain": [
       "  0%|          | 0/4 [00:00<?, ?it/s]"
      ]
     },
     "metadata": {},
     "output_type": "display_data"
    },
    {
     "name": "stderr",
     "output_type": "stream",
     "text": [
      "INFO:__main__:[get_min_max_in_file] submitted chunk 5\n",
      "DEBUG:__main__:[process_chunk] enter\n"
     ]
    },
    {
     "data": {
      "application/vnd.jupyter.widget-view+json": {
       "model_id": "",
       "version_major": 2,
       "version_minor": 0
      },
      "text/plain": [
       "  0%|          | 0/4 [00:00<?, ?it/s]"
      ]
     },
     "metadata": {},
     "output_type": "display_data"
    },
    {
     "name": "stderr",
     "output_type": "stream",
     "text": [
      "DEBUG:__main__:[process_chunk] done\n",
      "INFO:__main__:[get_min_max_in_file] submitted chunk 6\n",
      "DEBUG:__main__:[process_chunk] enter\n"
     ]
    },
    {
     "data": {
      "application/vnd.jupyter.widget-view+json": {
       "model_id": "",
       "version_major": 2,
       "version_minor": 0
      },
      "text/plain": [
       "  0%|          | 0/4 [00:00<?, ?it/s]"
      ]
     },
     "metadata": {},
     "output_type": "display_data"
    },
    {
     "name": "stderr",
     "output_type": "stream",
     "text": [
      "DEBUG:__main__:[process_chunk] done\n",
      "INFO:__main__:[get_min_max_in_file] submitted chunk 7\n",
      "DEBUG:__main__:[process_chunk] enter\n"
     ]
    },
    {
     "data": {
      "application/vnd.jupyter.widget-view+json": {
       "model_id": "",
       "version_major": 2,
       "version_minor": 0
      },
      "text/plain": [
       "  0%|          | 0/4 [00:00<?, ?it/s]"
      ]
     },
     "metadata": {},
     "output_type": "display_data"
    },
    {
     "name": "stderr",
     "output_type": "stream",
     "text": [
      "DEBUG:__main__:[process_chunk] done\n",
      "INFO:__main__:[get_min_max_in_file] submitted chunk 8\n",
      "DEBUG:__main__:[process_chunk] enter\n"
     ]
    },
    {
     "data": {
      "application/vnd.jupyter.widget-view+json": {
       "model_id": "",
       "version_major": 2,
       "version_minor": 0
      },
      "text/plain": [
       "  0%|          | 0/4 [00:00<?, ?it/s]"
      ]
     },
     "metadata": {},
     "output_type": "display_data"
    },
    {
     "name": "stderr",
     "output_type": "stream",
     "text": [
      "DEBUG:__main__:[process_chunk] done\n",
      "INFO:__main__:[get_min_max_in_file] submitted chunk 9\n",
      "DEBUG:__main__:[process_chunk] enter\n"
     ]
    },
    {
     "data": {
      "application/vnd.jupyter.widget-view+json": {
       "model_id": "",
       "version_major": 2,
       "version_minor": 0
      },
      "text/plain": [
       "  0%|          | 0/4 [00:00<?, ?it/s]"
      ]
     },
     "metadata": {},
     "output_type": "display_data"
    },
    {
     "name": "stderr",
     "output_type": "stream",
     "text": [
      "DEBUG:__main__:[process_chunk] done\n",
      "INFO:__main__:[get_min_max_in_file] submitted chunk 10\n",
      "DEBUG:__main__:[process_chunk] enter\n"
     ]
    },
    {
     "data": {
      "application/vnd.jupyter.widget-view+json": {
       "model_id": "",
       "version_major": 2,
       "version_minor": 0
      },
      "text/plain": [
       "  0%|          | 0/4 [00:00<?, ?it/s]"
      ]
     },
     "metadata": {},
     "output_type": "display_data"
    },
    {
     "name": "stderr",
     "output_type": "stream",
     "text": [
      "DEBUG:__main__:[process_chunk] done\n",
      "INFO:__main__:[get_min_max_in_file] submitted chunk 11\n",
      "INFO:__main__:[get_min_max_in_file] waiting for result 0\n",
      "INFO:__main__:[get_min_max_in_file] waiting for result 1\n",
      "INFO:__main__:[get_min_max_in_file] waiting for result 2\n",
      "DEBUG:__main__:[process_chunk] enter\n",
      "INFO:__main__:[get_min_max_in_file] waiting for result 3\n",
      "INFO:__main__:[get_min_max_in_file] waiting for result 4\n",
      "INFO:__main__:[get_min_max_in_file] waiting for result 5\n",
      "DEBUG:__main__:[process_chunk] done\n",
      "INFO:__main__:[get_min_max_in_file] waiting for result 6\n",
      "INFO:__main__:[get_min_max_in_file] waiting for result 7\n",
      "INFO:__main__:[get_min_max_in_file] waiting for result 8\n",
      "INFO:__main__:[get_min_max_in_file] waiting for result 9\n",
      "INFO:__main__:[get_min_max_in_file] waiting for result 10\n",
      "INFO:__main__:[get_min_max_in_file] waiting for result 11\n",
      "INFO:__main__:[get_min_max_in_file] done\n",
      "DEBUG:root:[convert] get_min_max for /data/Experiment_data/newcastle/wbc/idr0000-lippeveld-ifc-human-wbc-data/experimentA/sample1/sample1_part2_of_3.cif done\n",
      "DEBUG:root:[convert] writing out images for /data/Experiment_data/newcastle/wbc/idr0000-lippeveld-ifc-human-wbc-data/experimentA/sample1/sample1_part2_of_3.cif\n"
     ]
    },
    {
     "data": {
      "application/vnd.jupyter.widget-view+json": {
       "model_id": "",
       "version_major": 2,
       "version_minor": 0
      },
      "text/plain": [
       "  0%|          | 0/12 [00:00<?, ?it/s]"
      ]
     },
     "metadata": {},
     "output_type": "display_data"
    },
    {
     "name": "stderr",
     "output_type": "stream",
     "text": [
      "INFO:root:[convert] processing /data/Experiment_data/newcastle/wbc/idr0000-lippeveld-ifc-human-wbc-data/experimentA/sample1/sample1_part3_of_3.cif\n",
      "DEBUG:bioformats.formatreader:Getting image reader for: reader, /data/Experiment_data/newcastle/wbc/idr0000-lippeveld-ifc-human-wbc-data/experimentA/sample1/sample1_part3_of_3.cif, None\n",
      "DEBUG:bioformats.formatreader:Falling back to Java reader.\n",
      "DEBUG:root:[convert] starting get_min_max for /data/Experiment_data/newcastle/wbc/idr0000-lippeveld-ifc-human-wbc-data/experimentA/sample1/sample1_part3_of_3.cif\n",
      "INFO:__main__:[get_min_max_in_file] enter\n"
     ]
    },
    {
     "data": {
      "application/vnd.jupyter.widget-view+json": {
       "model_id": "",
       "version_major": 2,
       "version_minor": 0
      },
      "text/plain": [
       "  0%|          | 0/12 [00:00<?, ?it/s]"
      ]
     },
     "metadata": {},
     "output_type": "display_data"
    },
    {
     "data": {
      "application/vnd.jupyter.widget-view+json": {
       "model_id": "",
       "version_major": 2,
       "version_minor": 0
      },
      "text/plain": [
       "  0%|          | 0/5 [00:00<?, ?it/s]"
      ]
     },
     "metadata": {},
     "output_type": "display_data"
    },
    {
     "name": "stderr",
     "output_type": "stream",
     "text": [
      "INFO:__main__:[get_min_max_in_file] submitted chunk 0\n",
      "DEBUG:__main__:[process_chunk] enter\n"
     ]
    },
    {
     "data": {
      "application/vnd.jupyter.widget-view+json": {
       "model_id": "",
       "version_major": 2,
       "version_minor": 0
      },
      "text/plain": [
       "  0%|          | 0/5 [00:00<?, ?it/s]"
      ]
     },
     "metadata": {},
     "output_type": "display_data"
    },
    {
     "name": "stderr",
     "output_type": "stream",
     "text": [
      "DEBUG:__main__:[process_chunk] done\n",
      "INFO:__main__:[get_min_max_in_file] submitted chunk 1\n",
      "DEBUG:__main__:[process_chunk] enter\n",
      "DEBUG:__main__:[process_chunk] done\n"
     ]
    },
    {
     "data": {
      "application/vnd.jupyter.widget-view+json": {
       "model_id": "",
       "version_major": 2,
       "version_minor": 0
      },
      "text/plain": [
       "  0%|          | 0/4 [00:00<?, ?it/s]"
      ]
     },
     "metadata": {},
     "output_type": "display_data"
    },
    {
     "name": "stderr",
     "output_type": "stream",
     "text": [
      "INFO:__main__:[get_min_max_in_file] submitted chunk 2\n",
      "DEBUG:__main__:[process_chunk] enter\n",
      "DEBUG:__main__:[process_chunk] done\n"
     ]
    },
    {
     "data": {
      "application/vnd.jupyter.widget-view+json": {
       "model_id": "",
       "version_major": 2,
       "version_minor": 0
      },
      "text/plain": [
       "  0%|          | 0/4 [00:00<?, ?it/s]"
      ]
     },
     "metadata": {},
     "output_type": "display_data"
    },
    {
     "name": "stderr",
     "output_type": "stream",
     "text": [
      "INFO:__main__:[get_min_max_in_file] submitted chunk 3\n",
      "DEBUG:__main__:[process_chunk] enter\n",
      "DEBUG:__main__:[process_chunk] done\n"
     ]
    },
    {
     "data": {
      "application/vnd.jupyter.widget-view+json": {
       "model_id": "",
       "version_major": 2,
       "version_minor": 0
      },
      "text/plain": [
       "  0%|          | 0/4 [00:00<?, ?it/s]"
      ]
     },
     "metadata": {},
     "output_type": "display_data"
    },
    {
     "name": "stderr",
     "output_type": "stream",
     "text": [
      "INFO:__main__:[get_min_max_in_file] submitted chunk 4\n",
      "DEBUG:__main__:[process_chunk] enter\n",
      "DEBUG:__main__:[process_chunk] done\n"
     ]
    },
    {
     "data": {
      "application/vnd.jupyter.widget-view+json": {
       "model_id": "",
       "version_major": 2,
       "version_minor": 0
      },
      "text/plain": [
       "  0%|          | 0/4 [00:00<?, ?it/s]"
      ]
     },
     "metadata": {},
     "output_type": "display_data"
    },
    {
     "name": "stderr",
     "output_type": "stream",
     "text": [
      "INFO:__main__:[get_min_max_in_file] submitted chunk 5\n",
      "DEBUG:__main__:[process_chunk] enter\n"
     ]
    },
    {
     "data": {
      "application/vnd.jupyter.widget-view+json": {
       "model_id": "",
       "version_major": 2,
       "version_minor": 0
      },
      "text/plain": [
       "  0%|          | 0/4 [00:00<?, ?it/s]"
      ]
     },
     "metadata": {},
     "output_type": "display_data"
    },
    {
     "name": "stderr",
     "output_type": "stream",
     "text": [
      "DEBUG:__main__:[process_chunk] done\n",
      "INFO:__main__:[get_min_max_in_file] submitted chunk 6\n",
      "DEBUG:__main__:[process_chunk] enter\n",
      "DEBUG:__main__:[process_chunk] done\n"
     ]
    },
    {
     "data": {
      "application/vnd.jupyter.widget-view+json": {
       "model_id": "",
       "version_major": 2,
       "version_minor": 0
      },
      "text/plain": [
       "  0%|          | 0/4 [00:00<?, ?it/s]"
      ]
     },
     "metadata": {},
     "output_type": "display_data"
    },
    {
     "name": "stderr",
     "output_type": "stream",
     "text": [
      "INFO:__main__:[get_min_max_in_file] submitted chunk 7\n",
      "DEBUG:__main__:[process_chunk] enter\n",
      "DEBUG:__main__:[process_chunk] done\n"
     ]
    },
    {
     "data": {
      "application/vnd.jupyter.widget-view+json": {
       "model_id": "",
       "version_major": 2,
       "version_minor": 0
      },
      "text/plain": [
       "  0%|          | 0/4 [00:00<?, ?it/s]"
      ]
     },
     "metadata": {},
     "output_type": "display_data"
    },
    {
     "name": "stderr",
     "output_type": "stream",
     "text": [
      "INFO:__main__:[get_min_max_in_file] submitted chunk 8\n"
     ]
    },
    {
     "data": {
      "application/vnd.jupyter.widget-view+json": {
       "model_id": "",
       "version_major": 2,
       "version_minor": 0
      },
      "text/plain": [
       "  0%|          | 0/4 [00:00<?, ?it/s]"
      ]
     },
     "metadata": {},
     "output_type": "display_data"
    },
    {
     "name": "stderr",
     "output_type": "stream",
     "text": [
      "DEBUG:__main__:[process_chunk] enter\n",
      "DEBUG:__main__:[process_chunk] done\n",
      "INFO:__main__:[get_min_max_in_file] submitted chunk 9\n",
      "DEBUG:__main__:[process_chunk] enter\n",
      "DEBUG:__main__:[process_chunk] done\n"
     ]
    },
    {
     "data": {
      "application/vnd.jupyter.widget-view+json": {
       "model_id": "",
       "version_major": 2,
       "version_minor": 0
      },
      "text/plain": [
       "  0%|          | 0/4 [00:00<?, ?it/s]"
      ]
     },
     "metadata": {},
     "output_type": "display_data"
    },
    {
     "name": "stderr",
     "output_type": "stream",
     "text": [
      "INFO:__main__:[get_min_max_in_file] submitted chunk 10\n",
      "DEBUG:__main__:[process_chunk] enter\n",
      "DEBUG:__main__:[process_chunk] done\n"
     ]
    },
    {
     "data": {
      "application/vnd.jupyter.widget-view+json": {
       "model_id": "",
       "version_major": 2,
       "version_minor": 0
      },
      "text/plain": [
       "  0%|          | 0/4 [00:00<?, ?it/s]"
      ]
     },
     "metadata": {},
     "output_type": "display_data"
    },
    {
     "name": "stderr",
     "output_type": "stream",
     "text": [
      "INFO:__main__:[get_min_max_in_file] submitted chunk 11\n",
      "INFO:__main__:[get_min_max_in_file] waiting for result 0\n",
      "INFO:__main__:[get_min_max_in_file] waiting for result 1\n",
      "INFO:__main__:[get_min_max_in_file] waiting for result 2\n",
      "INFO:__main__:[get_min_max_in_file] waiting for result 3\n",
      "INFO:__main__:[get_min_max_in_file] waiting for result 4\n",
      "DEBUG:__main__:[process_chunk] enter\n",
      "INFO:__main__:[get_min_max_in_file] waiting for result 5\n",
      "INFO:__main__:[get_min_max_in_file] waiting for result 6\n",
      "INFO:__main__:[get_min_max_in_file] waiting for result 7\n",
      "INFO:__main__:[get_min_max_in_file] waiting for result 8\n",
      "DEBUG:__main__:[process_chunk] done\n",
      "INFO:__main__:[get_min_max_in_file] waiting for result 9\n",
      "INFO:__main__:[get_min_max_in_file] waiting for result 10\n",
      "INFO:__main__:[get_min_max_in_file] waiting for result 11\n",
      "INFO:__main__:[get_min_max_in_file] done\n",
      "DEBUG:root:[convert] get_min_max for /data/Experiment_data/newcastle/wbc/idr0000-lippeveld-ifc-human-wbc-data/experimentA/sample1/sample1_part3_of_3.cif done\n",
      "DEBUG:root:[convert] writing out images for /data/Experiment_data/newcastle/wbc/idr0000-lippeveld-ifc-human-wbc-data/experimentA/sample1/sample1_part3_of_3.cif\n"
     ]
    },
    {
     "data": {
      "application/vnd.jupyter.widget-view+json": {
       "model_id": "",
       "version_major": 2,
       "version_minor": 0
      },
      "text/plain": [
       "  0%|          | 0/12 [00:00<?, ?it/s]"
      ]
     },
     "metadata": {},
     "output_type": "display_data"
    },
    {
     "name": "stderr",
     "output_type": "stream",
     "text": [
      "INFO:root:[convert] processing /data/Experiment_data/newcastle/wbc/idr0000-lippeveld-ifc-human-wbc-data/experimentA/sample2/sample2.cif\n",
      "DEBUG:bioformats.formatreader:Getting image reader for: reader, /data/Experiment_data/newcastle/wbc/idr0000-lippeveld-ifc-human-wbc-data/experimentA/sample2/sample2.cif, None\n",
      "DEBUG:bioformats.formatreader:Falling back to Java reader.\n",
      "DEBUG:root:[convert] starting get_min_max for /data/Experiment_data/newcastle/wbc/idr0000-lippeveld-ifc-human-wbc-data/experimentA/sample2/sample2.cif\n",
      "INFO:__main__:[get_min_max_in_file] enter\n"
     ]
    },
    {
     "data": {
      "application/vnd.jupyter.widget-view+json": {
       "model_id": "",
       "version_major": 2,
       "version_minor": 0
      },
      "text/plain": [
       "  0%|          | 0/12 [00:00<?, ?it/s]"
      ]
     },
     "metadata": {},
     "output_type": "display_data"
    },
    {
     "data": {
      "application/vnd.jupyter.widget-view+json": {
       "model_id": "",
       "version_major": 2,
       "version_minor": 0
      },
      "text/plain": [
       "  0%|          | 0/5 [00:00<?, ?it/s]"
      ]
     },
     "metadata": {},
     "output_type": "display_data"
    },
    {
     "name": "stderr",
     "output_type": "stream",
     "text": [
      "INFO:__main__:[get_min_max_in_file] submitted chunk 0\n",
      "DEBUG:__main__:[process_chunk] enter\n",
      "DEBUG:__main__:[process_chunk] done\n"
     ]
    },
    {
     "data": {
      "application/vnd.jupyter.widget-view+json": {
       "model_id": "",
       "version_major": 2,
       "version_minor": 0
      },
      "text/plain": [
       "  0%|          | 0/5 [00:00<?, ?it/s]"
      ]
     },
     "metadata": {},
     "output_type": "display_data"
    },
    {
     "name": "stderr",
     "output_type": "stream",
     "text": [
      "INFO:__main__:[get_min_max_in_file] submitted chunk 1\n",
      "DEBUG:__main__:[process_chunk] enter\n",
      "DEBUG:__main__:[process_chunk] done\n"
     ]
    },
    {
     "data": {
      "application/vnd.jupyter.widget-view+json": {
       "model_id": "",
       "version_major": 2,
       "version_minor": 0
      },
      "text/plain": [
       "  0%|          | 0/4 [00:00<?, ?it/s]"
      ]
     },
     "metadata": {},
     "output_type": "display_data"
    },
    {
     "name": "stderr",
     "output_type": "stream",
     "text": [
      "INFO:__main__:[get_min_max_in_file] submitted chunk 2\n",
      "DEBUG:__main__:[process_chunk] enter\n",
      "DEBUG:__main__:[process_chunk] done\n"
     ]
    },
    {
     "data": {
      "application/vnd.jupyter.widget-view+json": {
       "model_id": "",
       "version_major": 2,
       "version_minor": 0
      },
      "text/plain": [
       "  0%|          | 0/4 [00:00<?, ?it/s]"
      ]
     },
     "metadata": {},
     "output_type": "display_data"
    },
    {
     "name": "stderr",
     "output_type": "stream",
     "text": [
      "INFO:__main__:[get_min_max_in_file] submitted chunk 3\n",
      "DEBUG:__main__:[process_chunk] enter\n"
     ]
    },
    {
     "data": {
      "application/vnd.jupyter.widget-view+json": {
       "model_id": "",
       "version_major": 2,
       "version_minor": 0
      },
      "text/plain": [
       "  0%|          | 0/4 [00:00<?, ?it/s]"
      ]
     },
     "metadata": {},
     "output_type": "display_data"
    },
    {
     "name": "stderr",
     "output_type": "stream",
     "text": [
      "DEBUG:__main__:[process_chunk] done\n",
      "INFO:__main__:[get_min_max_in_file] submitted chunk 4\n",
      "DEBUG:__main__:[process_chunk] enter\n"
     ]
    },
    {
     "data": {
      "application/vnd.jupyter.widget-view+json": {
       "model_id": "",
       "version_major": 2,
       "version_minor": 0
      },
      "text/plain": [
       "  0%|          | 0/4 [00:00<?, ?it/s]"
      ]
     },
     "metadata": {},
     "output_type": "display_data"
    },
    {
     "name": "stderr",
     "output_type": "stream",
     "text": [
      "DEBUG:__main__:[process_chunk] done\n",
      "INFO:__main__:[get_min_max_in_file] submitted chunk 5\n",
      "DEBUG:__main__:[process_chunk] enter\n"
     ]
    },
    {
     "data": {
      "application/vnd.jupyter.widget-view+json": {
       "model_id": "",
       "version_major": 2,
       "version_minor": 0
      },
      "text/plain": [
       "  0%|          | 0/4 [00:00<?, ?it/s]"
      ]
     },
     "metadata": {},
     "output_type": "display_data"
    },
    {
     "name": "stderr",
     "output_type": "stream",
     "text": [
      "DEBUG:__main__:[process_chunk] done\n",
      "INFO:__main__:[get_min_max_in_file] submitted chunk 6\n",
      "DEBUG:__main__:[process_chunk] enter\n"
     ]
    },
    {
     "data": {
      "application/vnd.jupyter.widget-view+json": {
       "model_id": "",
       "version_major": 2,
       "version_minor": 0
      },
      "text/plain": [
       "  0%|          | 0/4 [00:00<?, ?it/s]"
      ]
     },
     "metadata": {},
     "output_type": "display_data"
    },
    {
     "name": "stderr",
     "output_type": "stream",
     "text": [
      "DEBUG:__main__:[process_chunk] done\n",
      "INFO:__main__:[get_min_max_in_file] submitted chunk 7\n",
      "DEBUG:__main__:[process_chunk] enter\n"
     ]
    },
    {
     "data": {
      "application/vnd.jupyter.widget-view+json": {
       "model_id": "",
       "version_major": 2,
       "version_minor": 0
      },
      "text/plain": [
       "  0%|          | 0/4 [00:00<?, ?it/s]"
      ]
     },
     "metadata": {},
     "output_type": "display_data"
    },
    {
     "name": "stderr",
     "output_type": "stream",
     "text": [
      "DEBUG:__main__:[process_chunk] done\n",
      "INFO:__main__:[get_min_max_in_file] submitted chunk 8\n",
      "DEBUG:__main__:[process_chunk] enter\n"
     ]
    },
    {
     "data": {
      "application/vnd.jupyter.widget-view+json": {
       "model_id": "",
       "version_major": 2,
       "version_minor": 0
      },
      "text/plain": [
       "  0%|          | 0/4 [00:00<?, ?it/s]"
      ]
     },
     "metadata": {},
     "output_type": "display_data"
    },
    {
     "name": "stderr",
     "output_type": "stream",
     "text": [
      "DEBUG:__main__:[process_chunk] done\n",
      "INFO:__main__:[get_min_max_in_file] submitted chunk 9\n",
      "DEBUG:__main__:[process_chunk] enter\n",
      "DEBUG:__main__:[process_chunk] done\n"
     ]
    },
    {
     "data": {
      "application/vnd.jupyter.widget-view+json": {
       "model_id": "",
       "version_major": 2,
       "version_minor": 0
      },
      "text/plain": [
       "  0%|          | 0/4 [00:00<?, ?it/s]"
      ]
     },
     "metadata": {},
     "output_type": "display_data"
    },
    {
     "name": "stderr",
     "output_type": "stream",
     "text": [
      "INFO:__main__:[get_min_max_in_file] submitted chunk 10\n",
      "DEBUG:__main__:[process_chunk] enter\n"
     ]
    },
    {
     "data": {
      "application/vnd.jupyter.widget-view+json": {
       "model_id": "",
       "version_major": 2,
       "version_minor": 0
      },
      "text/plain": [
       "  0%|          | 0/4 [00:00<?, ?it/s]"
      ]
     },
     "metadata": {},
     "output_type": "display_data"
    },
    {
     "name": "stderr",
     "output_type": "stream",
     "text": [
      "DEBUG:__main__:[process_chunk] done\n",
      "INFO:__main__:[get_min_max_in_file] submitted chunk 11\n",
      "INFO:__main__:[get_min_max_in_file] waiting for result 0\n",
      "INFO:__main__:[get_min_max_in_file] waiting for result 1\n",
      "INFO:__main__:[get_min_max_in_file] waiting for result 2\n",
      "INFO:__main__:[get_min_max_in_file] waiting for result 3\n",
      "INFO:__main__:[get_min_max_in_file] waiting for result 4\n",
      "DEBUG:__main__:[process_chunk] enter\n",
      "INFO:__main__:[get_min_max_in_file] waiting for result 5\n",
      "INFO:__main__:[get_min_max_in_file] waiting for result 6\n",
      "INFO:__main__:[get_min_max_in_file] waiting for result 7\n",
      "DEBUG:__main__:[process_chunk] done\n",
      "INFO:__main__:[get_min_max_in_file] waiting for result 8\n",
      "INFO:__main__:[get_min_max_in_file] waiting for result 9\n",
      "INFO:__main__:[get_min_max_in_file] waiting for result 10\n",
      "INFO:__main__:[get_min_max_in_file] waiting for result 11\n",
      "INFO:__main__:[get_min_max_in_file] done\n",
      "DEBUG:root:[convert] get_min_max for /data/Experiment_data/newcastle/wbc/idr0000-lippeveld-ifc-human-wbc-data/experimentA/sample2/sample2.cif done\n",
      "DEBUG:root:[convert] writing out images for /data/Experiment_data/newcastle/wbc/idr0000-lippeveld-ifc-human-wbc-data/experimentA/sample2/sample2.cif\n"
     ]
    },
    {
     "data": {
      "application/vnd.jupyter.widget-view+json": {
       "model_id": "",
       "version_major": 2,
       "version_minor": 0
      },
      "text/plain": [
       "  0%|          | 0/12 [00:00<?, ?it/s]"
      ]
     },
     "metadata": {},
     "output_type": "display_data"
    }
   ],
   "source": [
    "convert(\n",
    "    [\n",
    "        \"/data/Experiment_data/newcastle/wbc/idr0000-lippeveld-ifc-human-wbc-data/experimentA/sample1/sample1_part1_of_3.cif\"\n",
    "        , \"/data/Experiment_data/newcastle/wbc/idr0000-lippeveld-ifc-human-wbc-data/experimentA/sample1/sample1_part2_of_3.cif\"\n",
    "        , \"/data/Experiment_data/newcastle/wbc/idr0000-lippeveld-ifc-human-wbc-data/experimentA/sample1/sample1_part3_of_3.cif\"\n",
    "        , \"/data/Experiment_data/newcastle/wbc/idr0000-lippeveld-ifc-human-wbc-data/experimentA/sample2/sample2.cif\"\n",
    "    ],\n",
    "    [\n",
    "        \"/data/Experiment_data/newcastle/wbc/idr0000-lippeveld-ifc-human-wbc-data/experimentA/sample1/sample1_part1_of_3.fcs\"\n",
    "        , \"/data/Experiment_data/newcastle/wbc/idr0000-lippeveld-ifc-human-wbc-data/experimentA/sample1/sample1_part2_of_3.fcs\"\n",
    "        , \"/data/Experiment_data/newcastle/wbc/idr0000-lippeveld-ifc-human-wbc-data/experimentA/sample1/sample1_part3_of_3.fcs\"\n",
    "        , \"/data/Experiment_data/newcastle/wbc/idr0000-lippeveld-ifc-human-wbc-data/experimentA/sample2/sample2.fcs\"\n",
    "    ],\n",
    "    \"out\", [], True, 12, external_jvm_control=True)"
   ]
  },
  {
   "cell_type": "code",
   "execution_count": null,
   "metadata": {},
   "outputs": [],
   "source": [
    "# export\n",
    "@click.command(name=\"cif2tiff\")\n",
    "@click.argument(\"cif\", type=click.Path(exists=True, file_okay=False))\n",
    "@click.argument(\"output\", type=click.Path(exists=False, file_okay=False))\n",
    "@click.option(\"--channels\", multiple=True, type=int, default=[], help=\"Images from these channels will be extracted. Default is to extract all. 1-based index.\")\n",
    "@click.option(\"--debug\", is_flag=True, flag_value=True, help=\"Show debugging information. Limits output to 100 first cells.\", default=False)\n",
    "@click.option(\"--nproc\", type=int, default=-1, help=\"Amount of processes to use.\")\n",
    "@click.option(\"--nchunks\", type=int, default=-1, help=\"Amount of chunks to use.\")\n",
    "def convert_cmd(cif, output, channels, debug, nproc, nchunks):\n",
    "    \n",
    "    if nproc == -1:\n",
    "        from multiprocessing import cpu_count\n",
    "        nproc = cpu_count()\n",
    "    \n",
    "    if nchunks == -1:\n",
    "        nchunks = nproc\n",
    "        \n",
    "    if debug:\n",
    "        logging.basicConfig(level=logging.DEBUG)\n",
    "        \n",
    "    import glob\n",
    "    cif_files = glob.glob(str(Path(cif) / \"**\" / \"*.cif\"))\n",
    "    fcs_files = [str(Path(f).with_suffix(\".fcs\")) for f in cif_files]\n",
    "    \n",
    "    convert(cif_files, fcs_files, output, channels, debug, nproc, nchunks)"
   ]
  }
 ],
 "metadata": {
  "kernelspec": {
   "display_name": "Python 3",
   "language": "python",
   "name": "python3"
  }
 },
 "nbformat": 4,
 "nbformat_minor": 4
}
