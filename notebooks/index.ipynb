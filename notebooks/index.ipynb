{
 "cells": [
  {
   "cell_type": "code",
   "execution_count": null,
   "metadata": {},
   "outputs": [],
   "source": [
    "#hide\n",
    "from your_lib.core import *"
   ]
  },
  {
   "cell_type": "markdown",
   "metadata": {},
   "source": [
    "# ifcimglib\n",
    "\n",
    "This project contains code for working with imaging cytometry images. It features a conversion tool `cif2lmdb` that can be used to convert CIF to LMDB files. These files can then be used in custom scripts using the `imglmdb` module."
   ]
  },
  {
   "cell_type": "markdown",
   "metadata": {},
   "source": [
    "## Install"
   ]
  },
  {
   "cell_type": "markdown",
   "metadata": {},
   "source": [
    "Run:"
   ]
  },
  {
   "cell_type": "markdown",
   "metadata": {},
   "source": [
    "`pip install .`"
   ]
  },
  {
   "cell_type": "markdown",
   "metadata": {},
   "source": [
    "to install this package."
   ]
  },
  {
   "cell_type": "markdown",
   "metadata": {},
   "source": [
    "## How to use"
   ]
  },
  {
   "cell_type": "markdown",
   "metadata": {},
   "source": [
    "`cif2lmdb` can be used as follows:\n",
    "\n",
    "```\n",
    "Usage: cif2lmdb [OPTIONS] CIF\n",
    "\n",
    "Options:\n",
    "  --output FILE       Output filename. If not set, cif-filename is taken with\n",
    "                      lmdb extension.\n",
    "\n",
    "  --channels INTEGER  Images from these channels will be extracted. Default is\n",
    "                      to extract all. 1-based index.\n",
    "\n",
    "  --names TEXT        Names to assign to channels.\n",
    "  --debug             Show debugging information. Limits output to 100 first\n",
    "                      cells.\n",
    "\n",
    "  --overwrite         Overwrite lmdb if it exists.\n",
    "  --targets-npy FILE  Numpy binary file containing targets.\n",
    "  --skip-npy FILE     Numpy binary file containing instances to be skipped.\n",
    "  --help              Show this message and exit.\n",
    "```"
   ]
  },
  {
   "cell_type": "markdown",
   "metadata": {},
   "source": [
    "Here is an example command:\n",
    "```\n",
    "cif2lmdb --channels 1 --channels 6 --channels 9 --names BF --names SSC --names BF2 --output tmp.lmdb --debug --overwrite input.cif\n",
    "```\n",
    "It takes input.cif as input and outputs output.lmdb, an lmdb-file containing 100 (see debug flag) 3-channel images with names BF, SSC and BF2."
   ]
  },
  {
   "cell_type": "markdown",
   "metadata": {},
   "source": [
    "Please see the [imglmdb.ipynb](imglmdb.ipynb) notebook for usage examples of the `imglmdb` package."
   ]
  },
  {
   "cell_type": "code",
   "execution_count": null,
   "metadata": {},
   "outputs": [],
   "source": []
  }
 ],
 "metadata": {
  "kernelspec": {
   "display_name": "Python 3",
   "language": "python",
   "name": "python3"
  }
 },
 "nbformat": 4,
 "nbformat_minor": 4
}
