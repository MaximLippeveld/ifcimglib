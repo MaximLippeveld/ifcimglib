{
 "cells": [
  {
   "cell_type": "code",
   "execution_count": 1,
   "metadata": {},
   "outputs": [],
   "source": [
    "%load_ext autoreload\n",
    "%autoreload 2"
   ]
  },
  {
   "cell_type": "code",
   "execution_count": 2,
   "metadata": {},
   "outputs": [],
   "source": [
    "# default_exp cif2tiff"
   ]
  },
  {
   "cell_type": "markdown",
   "metadata": {},
   "source": [
    "# Convert CIF-file to TIFF directories"
   ]
  },
  {
   "cell_type": "code",
   "execution_count": 3,
   "metadata": {},
   "outputs": [],
   "source": [
    "#hide\n",
    "from nbdev.showdoc import *"
   ]
  },
  {
   "cell_type": "code",
   "execution_count": 4,
   "metadata": {},
   "outputs": [],
   "source": [
    "# export\n",
    "import math\n",
    "import javabridge\n",
    "import bioformats as bf\n",
    "import numpy as np\n",
    "import logging\n",
    "from tqdm import tqdm\n",
    "from pathlib import Path\n",
    "import numpy\n",
    "import click\n",
    "import flowio\n",
    "from PIL import Image\n",
    "from multiprocessing import Pool"
   ]
  },
  {
   "cell_type": "code",
   "execution_count": 5,
   "metadata": {},
   "outputs": [],
   "source": [
    "import matplotlib.pyplot as plt\n",
    "from tqdm.notebook import tqdm"
   ]
  },
  {
   "cell_type": "code",
   "execution_count": 6,
   "metadata": {},
   "outputs": [],
   "source": [
    "# exporti\n",
    "\n",
    "def _is_image(_series, _r):\n",
    "    _r.rdr.setSeries(_series)\n",
    "    return _r.rdr.getPixelType() != 1"
   ]
  },
  {
   "cell_type": "code",
   "execution_count": 8,
   "metadata": {},
   "outputs": [],
   "source": [
    "javabridge.start_vm(class_path=bf.JARS, run_headless=True, max_heap_size=\"12G\")"
   ]
  },
  {
   "cell_type": "code",
   "execution_count": 9,
   "metadata": {},
   "outputs": [],
   "source": [
    "# exporti\n",
    "def setup_directory_structure(out, fcs):\n",
    "    data = flowio.FlowData(fcs)\n",
    "    \n",
    "    label_idx = None\n",
    "    for k, v in data.channels.items():\n",
    "        if v[\"PnN\"] == \"label\":\n",
    "            label_idx = int(k)\n",
    "            \n",
    "    assert label_idx is not None, \"No label column present in fcs file\"\n",
    "    \n",
    "    labels = numpy.reshape(data.events, (-1, data.channel_count))[:, label_idx-1].astype(int)\n",
    "    \n",
    "    out = Path(out)\n",
    "    for label in numpy.unique(labels):\n",
    "        (Path(out) / str(label)).mkdir(exist_ok=True, parents=True)\n",
    "        \n",
    "    return labels"
   ]
  },
  {
   "cell_type": "code",
   "execution_count": 39,
   "metadata": {},
   "outputs": [],
   "source": [
    "# exporti\n",
    "\n",
    "def process_chunk(images, crange):    \n",
    "    upper_bound = images[0].reshape(len(crange), -1).max(axis=1)\n",
    "    lower_bound = images[0].reshape(len(crange), -1).min(axis=1)\n",
    "    \n",
    "    counter = 1\n",
    "    for i in images[1:]:\n",
    "        a = images[counter].reshape(len(crange), -1).min(axis=1)\n",
    "        b = images[counter].reshape(len(crange), -1).max(axis=1)\n",
    "        lower_bound = np.where(a < lower_bound, a, lower_bound) \n",
    "        upper_bound = np.where(b > upper_bound, b, upper_bound)\n",
    "        \n",
    "        counter += 1\n",
    "        \n",
    "    return lower_bound, upper_bound\n",
    "\n",
    "def get_min_max_in_file(reader, r_length, crange, nprocs):\n",
    "    \n",
    "    chunks = numpy.array_split(numpy.arange(0, r_length, step=2), nprocs)\n",
    "    image_chunks = [None]*len(chunks)\n",
    "    for i, chunk in tqdm(enumerate(chunks), position=0, leave=False, total=len(chunks)):\n",
    "        \n",
    "        images = [None]*len(chunk)\n",
    "        for j, series in tqdm(enumerate(chunk), total=len(chunk), position=1, leave=False):\n",
    "            first = reader.read(c=0, series=series)\n",
    "            im = numpy.empty(shape=(len(crange),) + first.shape, dtype=first.dtype)\n",
    "            mask = numpy.empty(shape=(len(crange),) + first.shape, dtype=first.dtype)\n",
    "            \n",
    "            im[0] = first\n",
    "            for c in crange[1:]:\n",
    "                im[c] = reader.read(c=c, series=series)\n",
    "            for c in crange:\n",
    "                mask[c] = reader.read(c=c, series=series+1)\n",
    "            images[j] = im*mask\n",
    "            \n",
    "        image_chunks[i] = images\n",
    "    print(\"Loaded images\")\n",
    "        \n",
    "    with Pool(processes=nprocs) as pool:\n",
    "        results = []\n",
    "        for images in image_chunks:\n",
    "            results.append(pool.apply_async(process_chunk, args=(images, crange)))\n",
    "\n",
    "        lower_bound, upper_bound = None, None\n",
    "        for i, result in enumerate(results):\n",
    "            print(f\"Waiting for result {i}\")\n",
    "            a, b = result.get()\n",
    "\n",
    "            if lower_bound is None:\n",
    "                lower_bound = a\n",
    "            else:\n",
    "                lower_bound = np.where(a < lower_bound, a, lower_bound) \n",
    "            if upper_bound is None:\n",
    "                upper_bound = b\n",
    "            else:\n",
    "                upper_bound = np.where(b > upper_bound, b, upper_bound)\n",
    "    \n",
    "    return lower_bound, upper_bound, image_chunks"
   ]
  },
  {
   "cell_type": "code",
   "execution_count": 43,
   "metadata": {},
   "outputs": [],
   "source": [
    "# export\n",
    "\n",
    "def convert(cif_files, fcs_files, output, channels, debug, nproc=1, external_jvm_control=False):\n",
    "    \n",
    "    if debug:\n",
    "        logging.basicConfig()\n",
    "        logging.getLogger().setLevel(logging.INFO)\n",
    "        \n",
    "    output = Path(output)\n",
    "\n",
    "    logger = logging.getLogger(__name__)\n",
    "\n",
    "    try:\n",
    "        \n",
    "        if not external_jvm_control:\n",
    "            logger.debug(\"Starting Java VM\")\n",
    "            javabridge.start_vm(class_path=bf.JARS, run_headless=True, max_heap_size=\"12G\")\n",
    "            logger.debug(\"Started Java VM\")\n",
    "            \n",
    "        counter = 0\n",
    "        for cif, fcs in zip(cif_files, fcs_files):\n",
    "            print(f\"Processing {cif}\")\n",
    "            \n",
    "            labels = setup_directory_structure(output, fcs)\n",
    "            \n",
    "            reader = bf.formatreader.get_image_reader(\"reader\", path=cif)\n",
    "            r_length = javabridge.call(reader.metadata, \"getImageCount\", \"()I\")\n",
    "            num_channels = javabridge.call(reader.metadata, \"getChannelCount\", \"(I)I\", 0)\n",
    "\n",
    "            if debug:\n",
    "                r_length=100\n",
    "\n",
    "            if len(channels) == 0:\n",
    "                crange = [i for i in range(num_channels)]\n",
    "            else:\n",
    "                crange = np.array(channels)-1\n",
    "            \n",
    "            lower_bound, upper_bound, image_chunks = get_min_max_in_file(reader, r_length, crange, nproc)\n",
    "            lower_bound = lower_bound.reshape(len(crange), 1, 1)\n",
    "            upper_bound = upper_bound.reshape(len(crange), 1, 1)\n",
    "\n",
    "            a = 0\n",
    "            for images in tqdm(image_chunks, position=0, leave=False):\n",
    "                for im in images:\n",
    "                    im = (((im - lower_bound) / (upper_bound - lower_bound))*(2**16)).astype(numpy.uint16)\n",
    "                    pillow_img = Image.fromarray(im[0], mode=\"I;16\")\n",
    "                    pillow_img.save(\n",
    "                        output / str(labels[a]) / f\"{counter}.tiff\", \n",
    "                        append_images = [Image.fromarray(im[i], mode=\"I;16\") for i in range(1, im.shape[0])],\n",
    "                        save_all = True\n",
    "                    )\n",
    "                    counter+=1\n",
    "                    a+1\n",
    "                \n",
    "    finally:\n",
    "        if not external_jvm_control:\n",
    "            javabridge.kill_vm()"
   ]
  },
  {
   "cell_type": "code",
   "execution_count": 41,
   "metadata": {},
   "outputs": [
    {
     "name": "stdout",
     "output_type": "stream",
     "text": [
      "Processing /data/Experiment_data/newcastle/wbc/idr0000-lippeveld-ifc-human-wbc-data/experimentA/sample1/sample1_part1_of_3.cif\n"
     ]
    },
    {
     "data": {
      "application/vnd.jupyter.widget-view+json": {
       "model_id": "86df0b678bc544198c241f3ffebcc391",
       "version_major": 2,
       "version_minor": 0
      },
      "text/plain": [
       "  0%|          | 0/12 [00:00<?, ?it/s]"
      ]
     },
     "metadata": {},
     "output_type": "display_data"
    },
    {
     "data": {
      "application/vnd.jupyter.widget-view+json": {
       "model_id": "d879c45a66f74c05bb74a0adca616b80",
       "version_major": 2,
       "version_minor": 0
      },
      "text/plain": [
       "  0%|          | 0/2500 [00:00<?, ?it/s]"
      ]
     },
     "metadata": {},
     "output_type": "display_data"
    },
    {
     "ename": "KeyboardInterrupt",
     "evalue": "",
     "output_type": "error",
     "traceback": [
      "\u001b[0;31m---------------------------------------------------------------------------\u001b[0m",
      "\u001b[0;31mKeyboardInterrupt\u001b[0m                         Traceback (most recent call last)",
      "\u001b[0;32m<ipython-input-41-e1a01a0b3d06>\u001b[0m in \u001b[0;36m<module>\u001b[0;34m\u001b[0m\n\u001b[0;32m----> 1\u001b[0;31m convert(\n\u001b[0m\u001b[1;32m      2\u001b[0m     [\n\u001b[1;32m      3\u001b[0m         \u001b[0;34m\"/data/Experiment_data/newcastle/wbc/idr0000-lippeveld-ifc-human-wbc-data/experimentA/sample1/sample1_part1_of_3.cif\"\u001b[0m\u001b[0;34m\u001b[0m\u001b[0;34m\u001b[0m\u001b[0m\n\u001b[1;32m      4\u001b[0m         \u001b[0;34m,\u001b[0m \u001b[0;34m\"/data/Experiment_data/newcastle/wbc/idr0000-lippeveld-ifc-human-wbc-data/experimentA/sample1/sample1_part2_of_3.cif\"\u001b[0m\u001b[0;34m\u001b[0m\u001b[0;34m\u001b[0m\u001b[0m\n\u001b[1;32m      5\u001b[0m         \u001b[0;34m,\u001b[0m \u001b[0;34m\"/data/Experiment_data/newcastle/wbc/idr0000-lippeveld-ifc-human-wbc-data/experimentA/sample1/sample1_part3_of_3.cif\"\u001b[0m\u001b[0;34m\u001b[0m\u001b[0;34m\u001b[0m\u001b[0m\n",
      "\u001b[0;32m<ipython-input-40-03db290dbae3>\u001b[0m in \u001b[0;36mconvert\u001b[0;34m(cif_files, fcs_files, output, channels, debug, overwrite, nproc, external_jvm_control)\u001b[0m\n\u001b[1;32m     36\u001b[0m                 \u001b[0mcrange\u001b[0m \u001b[0;34m=\u001b[0m \u001b[0mnp\u001b[0m\u001b[0;34m.\u001b[0m\u001b[0marray\u001b[0m\u001b[0;34m(\u001b[0m\u001b[0mchannels\u001b[0m\u001b[0;34m)\u001b[0m\u001b[0;34m-\u001b[0m\u001b[0;36m1\u001b[0m\u001b[0;34m\u001b[0m\u001b[0;34m\u001b[0m\u001b[0m\n\u001b[1;32m     37\u001b[0m \u001b[0;34m\u001b[0m\u001b[0m\n\u001b[0;32m---> 38\u001b[0;31m             \u001b[0mlower_bound\u001b[0m\u001b[0;34m,\u001b[0m \u001b[0mupper_bound\u001b[0m\u001b[0;34m,\u001b[0m \u001b[0mimage_chunks\u001b[0m \u001b[0;34m=\u001b[0m \u001b[0mget_min_max_in_file\u001b[0m\u001b[0;34m(\u001b[0m\u001b[0mreader\u001b[0m\u001b[0;34m,\u001b[0m \u001b[0mr_length\u001b[0m\u001b[0;34m,\u001b[0m \u001b[0mcrange\u001b[0m\u001b[0;34m,\u001b[0m \u001b[0mnproc\u001b[0m\u001b[0;34m)\u001b[0m\u001b[0;34m\u001b[0m\u001b[0;34m\u001b[0m\u001b[0m\n\u001b[0m\u001b[1;32m     39\u001b[0m             \u001b[0mlower_bound\u001b[0m \u001b[0;34m=\u001b[0m \u001b[0mlower_bound\u001b[0m\u001b[0;34m.\u001b[0m\u001b[0mreshape\u001b[0m\u001b[0;34m(\u001b[0m\u001b[0mlen\u001b[0m\u001b[0;34m(\u001b[0m\u001b[0mcrange\u001b[0m\u001b[0;34m)\u001b[0m\u001b[0;34m,\u001b[0m \u001b[0;36m1\u001b[0m\u001b[0;34m,\u001b[0m \u001b[0;36m1\u001b[0m\u001b[0;34m)\u001b[0m\u001b[0;34m\u001b[0m\u001b[0;34m\u001b[0m\u001b[0m\n\u001b[1;32m     40\u001b[0m             \u001b[0mupper_bound\u001b[0m \u001b[0;34m=\u001b[0m \u001b[0mupper_bound\u001b[0m\u001b[0;34m.\u001b[0m\u001b[0mreshape\u001b[0m\u001b[0;34m(\u001b[0m\u001b[0mlen\u001b[0m\u001b[0;34m(\u001b[0m\u001b[0mcrange\u001b[0m\u001b[0;34m)\u001b[0m\u001b[0;34m,\u001b[0m \u001b[0;36m1\u001b[0m\u001b[0;34m,\u001b[0m \u001b[0;36m1\u001b[0m\u001b[0;34m)\u001b[0m\u001b[0;34m\u001b[0m\u001b[0;34m\u001b[0m\u001b[0m\n",
      "\u001b[0;32m<ipython-input-39-c536259bba98>\u001b[0m in \u001b[0;36mget_min_max_in_file\u001b[0;34m(reader, r_length, crange, nprocs)\u001b[0m\n\u001b[1;32m     32\u001b[0m                 \u001b[0mim\u001b[0m\u001b[0;34m[\u001b[0m\u001b[0mc\u001b[0m\u001b[0;34m]\u001b[0m \u001b[0;34m=\u001b[0m \u001b[0mreader\u001b[0m\u001b[0;34m.\u001b[0m\u001b[0mread\u001b[0m\u001b[0;34m(\u001b[0m\u001b[0mc\u001b[0m\u001b[0;34m=\u001b[0m\u001b[0mc\u001b[0m\u001b[0;34m,\u001b[0m \u001b[0mseries\u001b[0m\u001b[0;34m=\u001b[0m\u001b[0mseries\u001b[0m\u001b[0;34m)\u001b[0m\u001b[0;34m\u001b[0m\u001b[0;34m\u001b[0m\u001b[0m\n\u001b[1;32m     33\u001b[0m             \u001b[0;32mfor\u001b[0m \u001b[0mc\u001b[0m \u001b[0;32min\u001b[0m \u001b[0mcrange\u001b[0m\u001b[0;34m:\u001b[0m\u001b[0;34m\u001b[0m\u001b[0;34m\u001b[0m\u001b[0m\n\u001b[0;32m---> 34\u001b[0;31m                 \u001b[0mmask\u001b[0m\u001b[0;34m[\u001b[0m\u001b[0mc\u001b[0m\u001b[0;34m]\u001b[0m \u001b[0;34m=\u001b[0m \u001b[0mreader\u001b[0m\u001b[0;34m.\u001b[0m\u001b[0mread\u001b[0m\u001b[0;34m(\u001b[0m\u001b[0mc\u001b[0m\u001b[0;34m=\u001b[0m\u001b[0mc\u001b[0m\u001b[0;34m,\u001b[0m \u001b[0mseries\u001b[0m\u001b[0;34m=\u001b[0m\u001b[0mseries\u001b[0m\u001b[0;34m+\u001b[0m\u001b[0;36m1\u001b[0m\u001b[0;34m)\u001b[0m\u001b[0;34m\u001b[0m\u001b[0;34m\u001b[0m\u001b[0m\n\u001b[0m\u001b[1;32m     35\u001b[0m             \u001b[0mimages\u001b[0m\u001b[0;34m[\u001b[0m\u001b[0mj\u001b[0m\u001b[0;34m]\u001b[0m \u001b[0;34m=\u001b[0m \u001b[0mim\u001b[0m\u001b[0;34m*\u001b[0m\u001b[0mmask\u001b[0m\u001b[0;34m\u001b[0m\u001b[0;34m\u001b[0m\u001b[0m\n\u001b[1;32m     36\u001b[0m \u001b[0;34m\u001b[0m\u001b[0m\n",
      "\u001b[0;32m~/miniconda3/envs/py3/lib/python3.8/site-packages/bioformats/formatreader.py\u001b[0m in \u001b[0;36mread\u001b[0;34m(self, c, z, t, series, index, rescale, wants_max_intensity, channel_names, XYWH)\u001b[0m\n\u001b[1;32m    814\u001b[0m             \u001b[0mdtype\u001b[0m \u001b[0;34m=\u001b[0m \u001b[0;34m'<f8'\u001b[0m \u001b[0;32mif\u001b[0m \u001b[0mlittle_endian\u001b[0m \u001b[0;32melse\u001b[0m \u001b[0;34m'>f8'\u001b[0m\u001b[0;34m\u001b[0m\u001b[0;34m\u001b[0m\u001b[0m\n\u001b[1;32m    815\u001b[0m             \u001b[0mscale\u001b[0m \u001b[0;34m=\u001b[0m \u001b[0;36m1\u001b[0m\u001b[0;34m\u001b[0m\u001b[0;34m\u001b[0m\u001b[0m\n\u001b[0;32m--> 816\u001b[0;31m         \u001b[0mmax_sample_value\u001b[0m \u001b[0;34m=\u001b[0m \u001b[0mself\u001b[0m\u001b[0;34m.\u001b[0m\u001b[0mrdr\u001b[0m\u001b[0;34m.\u001b[0m\u001b[0mgetMetadataValue\u001b[0m\u001b[0;34m(\u001b[0m\u001b[0;34m'MaxSampleValue'\u001b[0m\u001b[0;34m)\u001b[0m\u001b[0;34m\u001b[0m\u001b[0;34m\u001b[0m\u001b[0m\n\u001b[0m\u001b[1;32m    817\u001b[0m         \u001b[0;32mif\u001b[0m \u001b[0mmax_sample_value\u001b[0m \u001b[0;32mis\u001b[0m \u001b[0;32mnot\u001b[0m \u001b[0;32mNone\u001b[0m\u001b[0;34m:\u001b[0m\u001b[0;34m\u001b[0m\u001b[0;34m\u001b[0m\u001b[0m\n\u001b[1;32m    818\u001b[0m             \u001b[0;32mtry\u001b[0m\u001b[0;34m:\u001b[0m\u001b[0;34m\u001b[0m\u001b[0;34m\u001b[0m\u001b[0m\n",
      "\u001b[0;32m~/miniconda3/envs/py3/lib/python3.8/site-packages/javabridge/jutil.py\u001b[0m in \u001b[0;36mmethod\u001b[0;34m(self, *args)\u001b[0m\n\u001b[1;32m    959\u001b[0m     \u001b[0;32mdef\u001b[0m \u001b[0mmethod\u001b[0m\u001b[0;34m(\u001b[0m\u001b[0mself\u001b[0m\u001b[0;34m,\u001b[0m \u001b[0;34m*\u001b[0m\u001b[0margs\u001b[0m\u001b[0;34m)\u001b[0m\u001b[0;34m:\u001b[0m\u001b[0;34m\u001b[0m\u001b[0;34m\u001b[0m\u001b[0m\n\u001b[1;32m    960\u001b[0m         \u001b[0;32massert\u001b[0m \u001b[0misinstance\u001b[0m\u001b[0;34m(\u001b[0m\u001b[0mself\u001b[0m\u001b[0;34m.\u001b[0m\u001b[0mo\u001b[0m\u001b[0;34m,\u001b[0m \u001b[0m_javabridge\u001b[0m\u001b[0;34m.\u001b[0m\u001b[0mJB_Object\u001b[0m\u001b[0;34m)\u001b[0m\u001b[0;34m\u001b[0m\u001b[0;34m\u001b[0m\u001b[0m\n\u001b[0;32m--> 961\u001b[0;31m         \u001b[0mresult\u001b[0m \u001b[0;34m=\u001b[0m \u001b[0mcall\u001b[0m\u001b[0;34m(\u001b[0m\u001b[0mself\u001b[0m\u001b[0;34m.\u001b[0m\u001b[0mo\u001b[0m\u001b[0;34m,\u001b[0m \u001b[0mname\u001b[0m\u001b[0;34m,\u001b[0m \u001b[0msig\u001b[0m\u001b[0;34m,\u001b[0m \u001b[0;34m*\u001b[0m\u001b[0margs\u001b[0m\u001b[0;34m)\u001b[0m\u001b[0;34m\u001b[0m\u001b[0;34m\u001b[0m\u001b[0m\n\u001b[0m\u001b[1;32m    962\u001b[0m         \u001b[0;32mif\u001b[0m \u001b[0mfn_post_process\u001b[0m \u001b[0;32mis\u001b[0m \u001b[0;32mnot\u001b[0m \u001b[0;32mNone\u001b[0m\u001b[0;34m:\u001b[0m\u001b[0;34m\u001b[0m\u001b[0;34m\u001b[0m\u001b[0m\n\u001b[1;32m    963\u001b[0m             \u001b[0mresult\u001b[0m \u001b[0;34m=\u001b[0m \u001b[0mfn_post_process\u001b[0m\u001b[0;34m(\u001b[0m\u001b[0mresult\u001b[0m\u001b[0;34m)\u001b[0m\u001b[0;34m\u001b[0m\u001b[0;34m\u001b[0m\u001b[0m\n",
      "\u001b[0;32m~/miniconda3/envs/py3/lib/python3.8/site-packages/javabridge/jutil.py\u001b[0m in \u001b[0;36mcall\u001b[0;34m(o, method_name, sig, *args)\u001b[0m\n\u001b[1;32m    890\u001b[0m     \u001b[0mret_sig\u001b[0m \u001b[0;34m=\u001b[0m \u001b[0msig\u001b[0m\u001b[0;34m[\u001b[0m\u001b[0msig\u001b[0m\u001b[0;34m.\u001b[0m\u001b[0mfind\u001b[0m\u001b[0;34m(\u001b[0m\u001b[0;34m')'\u001b[0m\u001b[0;34m)\u001b[0m\u001b[0;34m+\u001b[0m\u001b[0;36m1\u001b[0m\u001b[0;34m:\u001b[0m\u001b[0;34m]\u001b[0m\u001b[0;34m\u001b[0m\u001b[0;34m\u001b[0m\u001b[0m\n\u001b[1;32m    891\u001b[0m     \u001b[0mnice_args\u001b[0m \u001b[0;34m=\u001b[0m \u001b[0mget_nice_args\u001b[0m\u001b[0;34m(\u001b[0m\u001b[0margs\u001b[0m\u001b[0;34m,\u001b[0m \u001b[0margs_sig\u001b[0m\u001b[0;34m)\u001b[0m\u001b[0;34m\u001b[0m\u001b[0;34m\u001b[0m\u001b[0m\n\u001b[0;32m--> 892\u001b[0;31m     \u001b[0mresult\u001b[0m \u001b[0;34m=\u001b[0m \u001b[0mfn\u001b[0m\u001b[0;34m(\u001b[0m\u001b[0;34m*\u001b[0m\u001b[0mnice_args\u001b[0m\u001b[0;34m)\u001b[0m\u001b[0;34m\u001b[0m\u001b[0;34m\u001b[0m\u001b[0m\n\u001b[0m\u001b[1;32m    893\u001b[0m     \u001b[0mx\u001b[0m \u001b[0;34m=\u001b[0m \u001b[0menv\u001b[0m\u001b[0;34m.\u001b[0m\u001b[0mexception_occurred\u001b[0m\u001b[0;34m(\u001b[0m\u001b[0;34m)\u001b[0m\u001b[0;34m\u001b[0m\u001b[0;34m\u001b[0m\u001b[0m\n\u001b[1;32m    894\u001b[0m     \u001b[0;32mif\u001b[0m \u001b[0mx\u001b[0m \u001b[0;32mis\u001b[0m \u001b[0;32mnot\u001b[0m \u001b[0;32mNone\u001b[0m\u001b[0;34m:\u001b[0m\u001b[0;34m\u001b[0m\u001b[0;34m\u001b[0m\u001b[0m\n",
      "\u001b[0;32m~/miniconda3/envs/py3/lib/python3.8/site-packages/javabridge/jutil.py\u001b[0m in \u001b[0;36mfn\u001b[0;34m(*args)\u001b[0m\n\u001b[1;32m    854\u001b[0m     \u001b[0;32mif\u001b[0m \u001b[0mbind\u001b[0m\u001b[0;34m:\u001b[0m\u001b[0;34m\u001b[0m\u001b[0;34m\u001b[0m\u001b[0m\n\u001b[1;32m    855\u001b[0m         \u001b[0;32mdef\u001b[0m \u001b[0mfn\u001b[0m\u001b[0;34m(\u001b[0m\u001b[0;34m*\u001b[0m\u001b[0margs\u001b[0m\u001b[0;34m)\u001b[0m\u001b[0;34m:\u001b[0m\u001b[0;34m\u001b[0m\u001b[0;34m\u001b[0m\u001b[0m\n\u001b[0;32m--> 856\u001b[0;31m             \u001b[0mresult\u001b[0m \u001b[0;34m=\u001b[0m \u001b[0menv\u001b[0m\u001b[0;34m.\u001b[0m\u001b[0mcall_method\u001b[0m\u001b[0;34m(\u001b[0m\u001b[0mo\u001b[0m\u001b[0;34m,\u001b[0m \u001b[0mmethod_id\u001b[0m\u001b[0;34m,\u001b[0m \u001b[0;34m*\u001b[0m\u001b[0margs\u001b[0m\u001b[0;34m)\u001b[0m\u001b[0;34m\u001b[0m\u001b[0;34m\u001b[0m\u001b[0m\n\u001b[0m\u001b[1;32m    857\u001b[0m             \u001b[0mx\u001b[0m \u001b[0;34m=\u001b[0m \u001b[0menv\u001b[0m\u001b[0;34m.\u001b[0m\u001b[0mexception_occurred\u001b[0m\u001b[0;34m(\u001b[0m\u001b[0;34m)\u001b[0m\u001b[0;34m\u001b[0m\u001b[0;34m\u001b[0m\u001b[0m\n\u001b[1;32m    858\u001b[0m             \u001b[0;32mif\u001b[0m \u001b[0mx\u001b[0m \u001b[0;32mis\u001b[0m \u001b[0;32mnot\u001b[0m \u001b[0;32mNone\u001b[0m\u001b[0;34m:\u001b[0m\u001b[0;34m\u001b[0m\u001b[0;34m\u001b[0m\u001b[0m\n",
      "\u001b[0;31mKeyboardInterrupt\u001b[0m: "
     ]
    }
   ],
   "source": [
    "convert(\n",
    "    [\n",
    "        \"/data/Experiment_data/newcastle/wbc/idr0000-lippeveld-ifc-human-wbc-data/experimentA/sample1/sample1_part1_of_3.cif\"\n",
    "        , \"/data/Experiment_data/newcastle/wbc/idr0000-lippeveld-ifc-human-wbc-data/experimentA/sample1/sample1_part2_of_3.cif\"\n",
    "        , \"/data/Experiment_data/newcastle/wbc/idr0000-lippeveld-ifc-human-wbc-data/experimentA/sample1/sample1_part3_of_3.cif\"\n",
    "        , \"/data/Experiment_data/newcastle/wbc/idr0000-lippeveld-ifc-human-wbc-data/experimentA/sample2/sample2.cif\"\n",
    "    ],\n",
    "    [\n",
    "        \"/data/Experiment_data/newcastle/wbc/idr0000-lippeveld-ifc-human-wbc-data/experimentA/sample1/sample1_part1_of_3.fcs\"\n",
    "        , \"/data/Experiment_data/newcastle/wbc/idr0000-lippeveld-ifc-human-wbc-data/experimentA/sample1/sample1_part2_of_3.fcs\"\n",
    "        , \"/data/Experiment_data/newcastle/wbc/idr0000-lippeveld-ifc-human-wbc-data/experimentA/sample1/sample1_part3_of_3.fcs\"\n",
    "        , \"/data/Experiment_data/newcastle/wbc/idr0000-lippeveld-ifc-human-wbc-data/experimentA/sample2/sample2.fcs\"\n",
    "    ],\n",
    "    \"out\", [], False, 12, external_jvm_control=True)"
   ]
  },
  {
   "cell_type": "code",
   "execution_count": 11,
   "metadata": {},
   "outputs": [],
   "source": [
    "# export\n",
    "@click.command(name=\"cif2tiff\")\n",
    "@click.argument(\"cif\", type=click.Path(exists=True, file_okay=False))\n",
    "@click.argument(\"output\", type=click.Path(exists=False, file_okay=False))\n",
    "@click.option(\"--channels\", multiple=True, type=int, default=[], help=\"Images from these channels will be extracted. Default is to extract all. 1-based index.\")\n",
    "@click.option(\"--debug\", is_flag=True, flag_value=True, help=\"Show debugging information. Limits output to 100 first cells.\", default=False)\n",
    "@click.option(\"--nproc\", type=int, default=-1, help=\"Amount of processes to use.\")\n",
    "def convert_cmd(cif, output, channels, debug, nproc):\n",
    "    \n",
    "    if nproc == -1:\n",
    "        from multiprocessing import cpu_count\n",
    "        nproc = cpu_count()\n",
    "        \n",
    "    import glob\n",
    "    cif_files = glob.glob(str(Path(cif) / \"**\" / \"*.cif\"))\n",
    "    fcs_files = [str(Path(f).with_suffix(\".fcs\")) for f in cif_files]\n",
    "    \n",
    "    convert(cif_files, fcs_files, output, channels, debug, nproc)"
   ]
  }
 ],
 "metadata": {
  "kernelspec": {
   "display_name": "Python 3",
   "language": "python",
   "name": "python3"
  },
  "language_info": {
   "codemirror_mode": {
    "name": "ipython",
    "version": 3
   },
   "file_extension": ".py",
   "mimetype": "text/x-python",
   "name": "python",
   "nbconvert_exporter": "python",
   "pygments_lexer": "ipython3",
   "version": "3.8.10"
  }
 },
 "nbformat": 4,
 "nbformat_minor": 4
}
