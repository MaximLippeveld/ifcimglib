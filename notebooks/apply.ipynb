{
 "cells": [
  {
   "cell_type": "code",
   "execution_count": null,
   "metadata": {},
   "outputs": [],
   "source": [
    "%load_ext autoreload\n",
    "%autoreload 2"
   ]
  },
  {
   "cell_type": "code",
   "execution_count": null,
   "metadata": {},
   "outputs": [],
   "source": [
    "# default_exp apply\n",
    "pass # xpython fix"
   ]
  },
  {
   "cell_type": "markdown",
   "metadata": {},
   "source": [
    "# Apply preprocessing to db\n",
    "\n",
    "> API"
   ]
  },
  {
   "cell_type": "code",
   "execution_count": null,
   "metadata": {},
   "outputs": [],
   "source": [
    "#hide\n",
    "from nbdev.showdoc import *"
   ]
  },
  {
   "cell_type": "code",
   "execution_count": null,
   "metadata": {},
   "outputs": [],
   "source": [
    "# export\n",
    "from ifcimglib import imglmdb, utils, preprocessing, cif2lmdb\n",
    "import numpy\n",
    "import matplotlib.pyplot as plt\n",
    "from tqdm import trange\n",
    "import pickle\n",
    "import logging\n",
    "import lmdb\n",
    "from pathlib import Path\n",
    "from tqdm import tqdm\n",
    "import os"
   ]
  },
  {
   "cell_type": "code",
   "execution_count": null,
   "metadata": {},
   "outputs": [],
   "source": [
    "# export\n",
    "\n",
    "def preprocess_db(db, preprocessed_output_path):\n",
    "    logger = logging.getLogger(__name__)\n",
    "    \n",
    "    if Path(preprocessed_output_path).exists():\n",
    "        Path(preprocessed_output_path).unlink()\n",
    "    \n",
    "    env = lmdb.open(preprocessed_output_path, lock=False, sync=False, map_size=cif2lmdb.map_size, subdir=False)\n",
    "    logger.info(\"Opened lmdb database %s\" % preprocessed_output_path)\n",
    "    \n",
    "    with env.begin(write=True) as txn:\n",
    "        txn.put(b'__targets__', pickle.dumps(db.targets))\n",
    "        txn.put(b'__len__', len(db).to_bytes(db.idx_byte_length, \"big\"))\n",
    "        txn.put(b'__names__', \" \".join(db.names).encode(\"utf-8\"))\n",
    "        \n",
    "        for i in trange(len(db)):\n",
    "            x, m, _ = db.get_image(i)\n",
    "            x = x.astype(numpy.float32)\n",
    "            x = preprocessing.min_max_normalize(x, m, \"zero\")\n",
    "            x = preprocessing.crop_and_pad_to_square(x, 70)\n",
    "            m = preprocessing.crop_and_pad_to_square(m.astype(numpy.uint8), 70).astype(bool)\n",
    "            \n",
    "            instance = cif2lmdb.get_instance(x.shape[1:], x.shape[0])\n",
    "            instance = cif2lmdb.set_instance_data(instance, x.astype(numpy.float16), m)\n",
    "            \n",
    "            txn.put(i.to_bytes(db.idx_byte_length, byteorder='big'), pickle.dumps(instance))\n",
    "            \n",
    "    env.sync()\n",
    "    logger.info(\"Finished pre-pixel-mean preprocessing\")\n",
    "    \n",
    "    preprocessed_db = imglmdb.imglmdb(preprocessed_output_path)\n",
    "    per_pixel_mean = preprocessing.compute_per_pixel_mean(preprocessed_db, x.shape)\n",
    "    \n",
    "    with env.begin(write=True) as txn:        \n",
    "        for i in trange(len(db)):\n",
    "            x, m, _ = preprocessed_db.get_image(i)\n",
    "            x = x.astype(numpy.float16) - per_pixel_mean\n",
    "            \n",
    "            instance = cif2lmdb.get_instance(x.shape[1:], x.shape[0])\n",
    "            instance = cif2lmdb.set_instance_data(instance, x.astype(numpy.float16), m)\n",
    "            \n",
    "            txn.put(i.to_bytes(preprocessed_db.idx_byte_length, byteorder='big'), pickle.dumps(instance), overwrite=True)\n",
    "            \n",
    "    env.sync()"
   ]
  },
  {
   "cell_type": "code",
   "execution_count": null,
   "metadata": {},
   "outputs": [],
   "source": [
    "db = imglmdb.imglmdb(\"/home/maximl/scratch/data/wbc/wbc_2/set1/all stains laser on 60x_1_Focused & Singlets & CD45 pos.lmdb\")\n",
    "preprocess_db(db, \"/home/maximl/scratch/data/wbc/wbc_2/set1/CD45_focused_singlets_preprocessed.lmdb\")"
   ]
  },
  {
   "cell_type": "code",
   "execution_count": null,
   "metadata": {},
   "outputs": [],
   "source": [
    "db = imglmdb.imglmdb(\"/home/maximl/scratch/data/wbc/wbc_2/set1/CD45_focused_singlets_preprocessed.lmdb\")"
   ]
  },
  {
   "cell_type": "code",
   "execution_count": null,
   "metadata": {},
   "outputs": [
    {
     "data": {
      "text/plain": [
       "<matplotlib.image.AxesImage at 0x7f8f615a3820>"
      ]
     },
     "execution_count": null,
     "metadata": {},
     "output_type": "execute_result"
    },
    {
     "data": {
      "image/png": "[encoded data removed]",
      "text/plain": [
       "<Figure size 432x288 with 1 Axes>"
      ]
     },
     "metadata": {
      "needs_background": "light"
     },
     "output_type": "display_data"
    }
   ],
   "source": [
    "i = db.get_image(0)[0][0]\n",
    "i = ((i - i.min()) / (i.max() - i.min())) * numpy.iinfo(numpy.uint16).max\n",
    "plt.imshow(i.astype(numpy.uint16))"
   ]
  },
  {
   "cell_type": "code",
   "execution_count": null,
   "metadata": {},
   "outputs": [
    {
     "name": "stderr",
     "output_type": "stream",
     "text": [
      "100%|██████████| 23030/23030 [00:15<00:00, 1485.72it/s]\n",
      "100%|██████████| 23030/23030 [00:02<00:00, 8085.61it/s]\n",
      "100%|██████████| 23030/23030 [00:10<00:00, 2273.73it/s]\n",
      "100%|██████████| 24051/24051 [00:16<00:00, 1450.45it/s]\n",
      "100%|██████████| 24051/24051 [00:02<00:00, 8313.47it/s]\n",
      "100%|██████████| 24051/24051 [00:10<00:00, 2363.25it/s]\n",
      "100%|██████████| 24518/24518 [00:17<00:00, 1397.93it/s]\n",
      "100%|██████████| 24518/24518 [00:03<00:00, 7628.65it/s]\n",
      "100%|██████████| 24518/24518 [00:10<00:00, 2360.72it/s]\n",
      "100%|██████████| 21432/21432 [00:15<00:00, 1366.65it/s]\n",
      "100%|██████████| 21432/21432 [00:02<00:00, 7281.23it/s]\n",
      "100%|██████████| 21432/21432 [00:08<00:00, 2436.99it/s]\n",
      "100%|██████████| 23176/23176 [00:15<00:00, 1454.06it/s]\n",
      "100%|██████████| 23176/23176 [00:03<00:00, 7495.95it/s]\n",
      "100%|██████████| 23176/23176 [00:10<00:00, 2288.83it/s]\n",
      "100%|██████████| 23402/23402 [00:16<00:00, 1445.52it/s]\n",
      "100%|██████████| 23402/23402 [00:02<00:00, 8252.76it/s]\n",
      "100%|██████████| 23402/23402 [00:10<00:00, 2295.11it/s]\n",
      "100%|██████████| 29994/29994 [00:20<00:00, 1473.08it/s]\n",
      "100%|██████████| 29994/29994 [00:03<00:00, 7871.99it/s]\n",
      "100%|██████████| 29994/29994 [00:11<00:00, 2647.56it/s]\n"
     ]
    }
   ],
   "source": [
    "for db_path in [f for f in Path(\"/home/maximl/scratch/data/wbc/\").rglob(\"*.lmdb\") if \"preprocessed\" not in str(f)]:\n",
    "    db = imglmdb.imglmdb(str(db_path))\n",
    "    preprocess_db(db, os.path.join(*db_path.parts[:-1], \"CD45_focused_singlets_preprocessed.lmdb\"))"
   ]
  },
  {
   "cell_type": "code",
   "execution_count": null,
   "metadata": {},
   "outputs": [],
   "source": []
  }
 ],
 "metadata": {
  "kernelspec": {
   "display_name": "Python 3",
   "language": "python",
   "name": "python3"
  }
 },
 "nbformat": 4,
 "nbformat_minor": 4
}
