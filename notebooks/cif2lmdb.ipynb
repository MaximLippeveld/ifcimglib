{
 "cells": [
  {
   "cell_type": "code",
   "execution_count": 2,
   "metadata": {},
   "outputs": [],
   "source": [
    "%load_ext autoreload\n",
    "%autoreload 2"
   ]
  },
  {
   "cell_type": "code",
   "execution_count": 3,
   "metadata": {},
   "outputs": [],
   "source": [
    "# default_exp cif2lmdb\n",
    "pass # xpython fix"
   ]
  },
  {
   "cell_type": "markdown",
   "metadata": {},
   "source": [
    "# Convert CIF-file to LMDB\n",
    "\n",
    "> API"
   ]
  },
  {
   "cell_type": "code",
   "execution_count": 4,
   "metadata": {},
   "outputs": [],
   "source": [
    "#hide\n",
    "from nbdev.showdoc import *"
   ]
  },
  {
   "cell_type": "code",
   "execution_count": 5,
   "metadata": {},
   "outputs": [],
   "source": [
    "# export\n",
    "import math\n",
    "import javabridge\n",
    "import bioformats as bf\n",
    "import numpy as np\n",
    "import logging\n",
    "from tqdm import tqdm\n",
    "from os.path import basename, splitext, join, exists\n",
    "from os import mkdir\n",
    "from shutil import rmtree\n",
    "import lmdb\n",
    "import pickle\n",
    "from pathlib import Path\n",
    "import numpy\n",
    "import click"
   ]
  },
  {
   "cell_type": "code",
   "execution_count": 6,
   "metadata": {},
   "outputs": [],
   "source": [
    "# exporti\n",
    "\n",
    "def _is_image(_series, _r):\n",
    "    _r.rdr.setSeries(_series)\n",
    "    return _r.rdr.getPixelType() != 1"
   ]
  },
  {
   "cell_type": "code",
   "execution_count": 13,
   "metadata": {},
   "outputs": [],
   "source": [
    "# export\n",
    "def get_instance(shape, num_channels):\n",
    "    return [\n",
    "        np.empty([num_channels] + list(shape), dtype=np.uint16),\n",
    "        np.empty([num_channels] + list(shape), dtype=np.bool)\n",
    "    ]\n",
    "\n",
    "def update_instance_data(instance, channel, img, mask):\n",
    "    instance[0][channel] = img\n",
    "    instance[1][channel] = mask\n",
    "    return instance\n",
    "\n",
    "def set_instance_data(instance, img, mask):\n",
    "    instance[0] = img\n",
    "    instance[1] = mask\n",
    "    return instance\n",
    "\n",
    "map_size = 1099511627776 # 1 TiB"
   ]
  },
  {
   "cell_type": "code",
   "execution_count": 8,
   "metadata": {},
   "outputs": [],
   "source": [
    "# export\n",
    "\n",
    "def convert(cif, output, channels, names, debug, overwrite, targets_npy, skip_npy):\n",
    "\n",
    "    if debug:\n",
    "        logging.basicConfig()\n",
    "        logging.getLogger().setLevel(logging.DEBUG)\n",
    "\n",
    "    if output is None:\n",
    "        output = cif.replace(\".cif\", \".lmdb\")\n",
    "\n",
    "    if overwrite and exists(output):\n",
    "        Path(output).unlink()\n",
    "        if Path(output+\"-lock\").exists():\n",
    "            Path(output + \"-lock\").unlink()\n",
    "    elif not overwrite and exists(output):\n",
    "        raise ValueError(output, \"Output path exists.\")\n",
    "\n",
    "    logger = logging.getLogger(__name__)\n",
    "\n",
    "    try:\n",
    "        logger.debug(\"Starting Java VM\")\n",
    "        javabridge.start_vm(class_path=bf.JARS, run_headless=True, max_heap_size=\"8G\")\n",
    "        logger.debug(\"Started Java VM\")\n",
    "\n",
    "        reader = bf.formatreader.get_image_reader(\"tmp\", path=cif)\n",
    "        r_length = javabridge.call(reader.metadata, \"getImageCount\", \"()I\")\n",
    "        num_channels = javabridge.call(reader.metadata, \"getChannelCount\", \"(I)I\", 0)\n",
    "\n",
    "        if debug:\n",
    "            r_length=200\n",
    "\n",
    "        if len(channels) == 0:\n",
    "            crange = [i for i in range(num_channels)]\n",
    "        else:\n",
    "            crange = np.array(channels)-1\n",
    "\n",
    "        if len(names) != 0 and len(crange) != len(names):\n",
    "            raise ValueError(names, \"Incorrect amount of names for channels.\")\n",
    "\n",
    "        idx_bytes = int(np.ceil((np.floor(np.log2(r_length))+1)/8.))\n",
    "\n",
    "        env = lmdb.open(output, lock=False, map_size=map_size, subdir=False, metasync=False, meminit=False, sync=False, map_async=True)\n",
    "        try:\n",
    "            logger.info(\"Opening lmdb database %s\" % output)\n",
    "            output_length = r_length//2\n",
    "\n",
    "            with env.begin(write=True) as txn:\n",
    "\n",
    "                skip = []\n",
    "                if targets_npy is not None:\n",
    "                    # write some metadata\n",
    "                    targets = list(numpy.load(targets_npy))\n",
    "\n",
    "                    if skip_npy is not None:\n",
    "                        skip = list(numpy.load(skip_npy))\n",
    "                        output_length -= len(skip)\n",
    "\n",
    "                    if not debug: # skip test when debugging\n",
    "                        assert len(targets) == output_length, \"Number of targets does not match eventual lmdb length (meta %d, lmdb %d).\" % (len(targets), output_length)\n",
    "\n",
    "                    txn.put(b'__targets__', pickle.dumps(targets))\n",
    "\n",
    "                txn.put(b'__len__', (output_length).to_bytes(idx_bytes, \"big\"))\n",
    "                if names is not None:\n",
    "                    txn.put(b'__names__', \" \".join(names).encode(\"utf-8\"))\n",
    "\n",
    "            bar = tqdm(range(r_length)[::2])\n",
    "            skip_count = 0\n",
    "            counter = 0\n",
    "            for i in bar:\n",
    "                if i//2 in skip:\n",
    "                    skip_count += 1\n",
    "                    bar.set_postfix({\"#skipped\": skip_count})\n",
    "                    continue\n",
    "\n",
    "                instance = None\n",
    "                for c_idx, c in enumerate(crange):\n",
    "                    image = reader.read(c=c, series=i, rescale=False)\n",
    "                    mask = reader.read(c=c, series=i+1, rescale=False)\n",
    "                    if instance == None:\n",
    "                        instance = get_instance(image.shape, len(crange))\n",
    "                    update_instance_data(instance, c_idx, image, mask)\n",
    "\n",
    "                with env.begin(write=True) as txn:\n",
    "                    txn.put(counter.to_bytes(idx_bytes, byteorder='big'), pickle.dumps(instance))\n",
    "\n",
    "                counter += 1\n",
    "        finally:\n",
    "            env.sync()\n",
    "            env.close()\n",
    "    finally:\n",
    "        javabridge.kill_vm()"
   ]
  },
  {
   "cell_type": "code",
   "execution_count": 11,
   "metadata": {},
   "outputs": [],
   "source": [
    "# export\n",
    "@click.command(name=\"cif2lmdb\")\n",
    "@click.argument(\"cif\", type=click.Path(exists=True, dir_okay=False))\n",
    "@click.option(\"--output\", type=click.Path(exists=False, dir_okay=False), default=None, help=\"Output filename. If not set, cif-filename is taken with lmdb extension.\")\n",
    "@click.option(\"--channels\", multiple=True, type=int, default=[], help=\"Images from these channels will be extracted. Default is to extract all. 1-based index.\")\n",
    "@click.option(\"--names\", multiple=True, type=str, help=\"Names to assign to channels.\", default=[])\n",
    "@click.option(\"--debug\", is_flag=True, flag_value=True, help=\"Show debugging information. Limits output to 100 first cells.\", default=False)\n",
    "@click.option(\"--overwrite\", is_flag=True, flag_value=True, help=\"Overwrite lmdb if it exists.\", default=False)\n",
    "@click.option(\"--targets-npy\", type=click.Path(exists=True, dir_okay=False), help=\"Numpy binary file containing targets.\", default=None)\n",
    "@click.option(\"--skip-npy\", type=click.Path(exists=True, dir_okay=False), help=\"Numpy binary file containing instances to be skipped.\", default=None)\n",
    "def convert_cmd(cif, output, channels, names, debug, overwrite, targets_npy, skip_npy):\n",
    "    convert(cif, output, channels, names, debug, overwrite, targets_npy, skip_npy)"
   ]
  },
  {
   "cell_type": "code",
   "execution_count": null,
   "metadata": {},
   "outputs": [],
   "source": []
  }
 ],
 "metadata": {
  "kernelspec": {
   "display_name": "Python 3",
   "language": "python",
   "name": "python3"
  },
  "language_info": {
   "codemirror_mode": {
    "name": "ipython",
    "version": 3
   },
   "file_extension": ".py",
   "mimetype": "text/x-python",
   "name": "python",
   "nbconvert_exporter": "python",
   "pygments_lexer": "ipython3",
   "version": "3.9.1"
  }
 },
 "nbformat": 4,
 "nbformat_minor": 4
}
