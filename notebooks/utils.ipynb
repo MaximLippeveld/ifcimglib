{
 "cells": [
  {
   "cell_type": "code",
   "execution_count": null,
   "metadata": {},
   "outputs": [],
   "source": [
    "%load_ext autoreload\n",
    "%autoreload 2"
   ]
  },
  {
   "cell_type": "code",
   "execution_count": null,
   "metadata": {},
   "outputs": [],
   "source": [
    "# default_exp utils"
   ]
  },
  {
   "cell_type": "markdown",
   "metadata": {},
   "source": [
    "# Utility functions for handling lmdb databases\n",
    "\n",
    "> API"
   ]
  },
  {
   "cell_type": "code",
   "execution_count": null,
   "metadata": {},
   "outputs": [],
   "source": [
    "#hide\n",
    "from nbdev.showdoc import *"
   ]
  },
  {
   "cell_type": "code",
   "execution_count": null,
   "metadata": {},
   "outputs": [],
   "source": [
    "# export\n",
    "from ifcimglib import imglmdb\n",
    "import lmdb\n",
    "import os"
   ]
  },
  {
   "cell_type": "code",
   "execution_count": null,
   "metadata": {},
   "outputs": [],
   "source": [
    "# export\n",
    "def deep_copy_lmdb(old_lmdb_env, new_name):\n",
    "    fd = os.open(new_name, os.O_RDWR)\n",
    "    old_lmdb_env.copyfd(fd)\n",
    "    os.close(fd)"
   ]
  },
  {
   "cell_type": "code",
   "execution_count": null,
   "metadata": {},
   "outputs": [
    {
     "data": {
      "text/plain": [
       "db all stains laser on 60x_1_Focused & Singlets & CD45 pos.lmdb, length 23030, channels BF1 SSC BF2"
      ]
     },
     "execution_count": null,
     "metadata": {},
     "output_type": "execute_result"
    }
   ],
   "source": [
    "db = imglmdb.imglmdb(\"/home/maximl/scratch/data/wbc/wbc_2/set1/all stains laser on 60x_1_Focused & Singlets & CD45 pos.lmdb\")\n",
    "db"
   ]
  },
  {
   "cell_type": "code",
   "execution_count": null,
   "metadata": {},
   "outputs": [],
   "source": [
    "db_env_copy = deep_copy_lmdb(db.env, \"/home/maximl/scratch/data/wbc/wbc_2/set1/CD45_focused_singlets_preprocessed.lmdb\")"
   ]
  },
  {
   "cell_type": "code",
   "execution_count": null,
   "metadata": {},
   "outputs": [],
   "source": []
  }
 ],
 "metadata": {
  "kernelspec": {
   "display_name": "Python 3",
   "language": "python",
   "name": "python3"
  }
 },
 "nbformat": 4,
 "nbformat_minor": 4
}
